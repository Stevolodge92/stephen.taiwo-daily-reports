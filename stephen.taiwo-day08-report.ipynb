{
 "cells": [
  {
   "cell_type": "code",
   "execution_count": 19,
   "id": "157f866e-faf2-43df-968a-170e58795a3f",
   "metadata": {},
   "outputs": [
    {
     "data": {
      "text/plain": [
       "5"
      ]
     },
     "execution_count": 19,
     "metadata": {},
     "output_type": "execute_result"
    }
   ],
   "source": [
    "def find_max(a, b):\n",
    "    \"\"\" \n",
    "    This function display the max of three numeric values.\n",
    "    \n",
    "    Args: a and b (numeric) - two numbers to get the maximum\n",
    "\n",
    "    Return: The max of a and b \n",
    "    \"\"\"\n",
    "    if a <= b:\n",
    "        return b\n",
    "    else:\n",
    "        return a\n",
    "\n",
    "find_max(2, 5)"
   ]
  },
  {
   "cell_type": "code",
   "execution_count": 27,
   "id": "b06d96bd-d1ea-48c7-bb34-500d1c3f6ced",
   "metadata": {},
   "outputs": [
    {
     "data": {
      "text/plain": [
       "5"
      ]
     },
     "execution_count": 27,
     "metadata": {},
     "output_type": "execute_result"
    }
   ],
   "source": [
    "def find_max_of_three(a, b, c):\n",
    "    \"\"\" \n",
    "    This function calculate the maximum of three numeric values.\n",
    "    \n",
    "    Args: a, b, and c (numeric) - three numbers to get the maximum\n",
    "\n",
    "    Return: (numeric) - The max of a, b, and c\n",
    "    \"\"\"\n",
    "    return find_max(find_max(a, b), find_max(b, c))\n",
    "\n",
    "find_max_of_three(2, 3, 5)"
   ]
  },
  {
   "cell_type": "code",
   "execution_count": 89,
   "id": "64a03a80-c2fe-4881-a92f-8e46e91bfe8c",
   "metadata": {},
   "outputs": [
    {
     "data": {
      "text/plain": [
       "'S'"
      ]
     },
     "execution_count": 89,
     "metadata": {},
     "output_type": "execute_result"
    }
   ],
   "source": [
    "def list_length(lst):\n",
    "    \"\"\"\n",
    "    Displays the length of a given list.\n",
    "\n",
    "    Input: lst (list or str) \n",
    "    Output: The length of the list\n",
    "    \"\"\"\n",
    "    count = 0\n",
    "    for i in lst:\n",
    "        count += 1\n",
    "    return count\n",
    "\n",
    "A = [1, 2, 3, 4, 5, 6, 7, 8, 9, 10]\n",
    "B = \"Stephen\"\n",
    "# print(list_length(A), list_length(B))"
   ]
  },
  {
   "cell_type": "code",
   "execution_count": 33,
   "id": "96cbbd48-044c-4ec6-9d9c-7c2f5538a4b9",
   "metadata": {},
   "outputs": [
    {
     "data": {
      "text/plain": [
       "True"
      ]
     },
     "execution_count": 33,
     "metadata": {},
     "output_type": "execute_result"
    }
   ],
   "source": [
    "def check_vowel(s):\n",
    "    \"\"\"\n",
    "    Tells whethe a given letter is vowel.\n",
    "\n",
    "    Input: s (str) - a letter to check if it is a vowel\n",
    "    Output: True or False\n",
    "    \"\"\"\n",
    "    vowels = [\"a\", \"e\", \"i\", \"o\", \"u\"]\n",
    "    if s.lower() in vowels:\n",
    "        return True\n",
    "    else:\n",
    "        return False\n",
    "\n",
    "check_vowel(\"A\")"
   ]
  },
  {
   "cell_type": "code",
   "execution_count": 43,
   "id": "5f0281dd-3b38-4640-ba48-dc4fa5c90011",
   "metadata": {},
   "outputs": [
    {
     "data": {
      "text/plain": [
       "'ab'"
      ]
     },
     "execution_count": 43,
     "metadata": {},
     "output_type": "execute_result"
    }
   ],
   "source": [
    "A = [\"a\", \"b\"]\n",
    "\"\".join(A)"
   ]
  },
  {
   "cell_type": "code",
   "execution_count": 75,
   "id": "348ed145-7f0a-47fd-a2c0-13309b894c30",
   "metadata": {},
   "outputs": [
    {
     "data": {
      "text/plain": [
       "'SoStotepophohenon'"
      ]
     },
     "execution_count": 75,
     "metadata": {},
     "output_type": "execute_result"
    }
   ],
   "source": [
    "def encode(s):\n",
    "    \"\"\"\n",
    "    This pirpose of this function is to converts a given string \n",
    "    into “rövarspråket” (robber’s language) by doubling consonants \n",
    "    and placing “o” in between.\n",
    "\n",
    "    Input: s (str) - the string to convert\n",
    "    Output: (str) - robber's language\n",
    "    \"\"\"\n",
    "    C = \"bcdfghjklmnpqrstvwxyz\"\n",
    "    L = []\n",
    "    for i in s:\n",
    "        if i.lower() in C:\n",
    "            L.append(i + \"o\" + i)\n",
    "        else:\n",
    "            L.append(i)\n",
    "    L_2 = \"\".join(L)\n",
    "    return L_2\n",
    "\n",
    "encode(\"Stephen\")"
   ]
  },
  {
   "cell_type": "code",
   "execution_count": 79,
   "id": "664def37-7569-4aaf-9472-6d518d009062",
   "metadata": {},
   "outputs": [
    {
     "data": {
      "text/plain": [
       "55"
      ]
     },
     "execution_count": 79,
     "metadata": {},
     "output_type": "execute_result"
    }
   ],
   "source": [
    "def sum_elements(lst):\n",
    "    \"\"\"\n",
    "    This function returns the sum of the numbers in a given list.\n",
    "\n",
    "    Input: lst (list) - list of numbers\n",
    "    Output: (numeric) - Sum of the numbers in the list.\n",
    "    \"\"\"\n",
    "    s = 0\n",
    "    for i in lst:\n",
    "        s += i\n",
    "    return s\n",
    "\n",
    "N = [1, 2, 3, 4, 5, 6, 7, 8, 9, 10]\n",
    "sum_elements(N)"
   ]
  },
  {
   "cell_type": "code",
   "execution_count": 83,
   "id": "52dc64f7-8e89-4def-9556-ca143c1e02b7",
   "metadata": {},
   "outputs": [
    {
     "data": {
      "text/plain": [
       "3628800"
      ]
     },
     "execution_count": 83,
     "metadata": {},
     "output_type": "execute_result"
    }
   ],
   "source": [
    "def product_elements(lst):\n",
    "    \"\"\"\n",
    "    This function returns the product of the numbers in a given list.\n",
    "\n",
    "    Input: lst (list) - list of numbers\n",
    "    Output: (numeric) - Product of the numbers in the list.\n",
    "    \"\"\"\n",
    "    p = 1\n",
    "    for i in lst:\n",
    "        p *= i\n",
    "    return p\n",
    "\n",
    "N = [1, 2, 3, 4, 5, 6, 7, 8, 9, 10]\n",
    "product_elements(N)"
   ]
  },
  {
   "cell_type": "code",
   "execution_count": 85,
   "id": "53239a27-61dc-46a8-874c-184e6e2225b2",
   "metadata": {},
   "outputs": [
    {
     "data": {
      "text/plain": [
       "'yob a si nehpetS'"
      ]
     },
     "execution_count": 85,
     "metadata": {},
     "output_type": "execute_result"
    }
   ],
   "source": [
    "def reverse_string(s):\n",
    "    \"\"\" \n",
    "    Displays the reverse of a given string.\n",
    "\n",
    "    Input: s (str) - the strng to reverse\n",
    "    Output: (str) - The reverse of the string\n",
    "    \"\"\"\n",
    "    return s[::-1]\n",
    "\n",
    "A =\"Stephen is a boy\"\n",
    "reverse_string(A)"
   ]
  },
  {
   "cell_type": "code",
   "execution_count": 87,
   "id": "4ad8507f-2b03-41c5-8fcc-f3039fe3bd44",
   "metadata": {},
   "outputs": [
    {
     "name": "stdout",
     "output_type": "stream",
     "text": [
      "False True\n"
     ]
    }
   ],
   "source": [
    "def check_palindrome(s):\n",
    "    \"\"\"\n",
    "    Verify if a string reads the same forwards and backwards, i.e. is a palindrome.\n",
    "\n",
    "    Input: s (str) - A string to check whether it is a palindrome\n",
    "    Output: (bool) True or False\n",
    "    \"\"\"\n",
    "    if s == s[::-1]:\n",
    "        return True\n",
    "    else:\n",
    "        return False\n",
    "\n",
    "print(check_palindrome(\"Stephen\"), check_palindrome(\"racecar\"))"
   ]
  }
 ],
 "metadata": {
  "kernelspec": {
   "display_name": "Python 3 (ipykernel)",
   "language": "python",
   "name": "python3"
  },
  "language_info": {
   "codemirror_mode": {
    "name": "ipython",
    "version": 3
   },
   "file_extension": ".py",
   "mimetype": "text/x-python",
   "name": "python",
   "nbconvert_exporter": "python",
   "pygments_lexer": "ipython3",
   "version": "3.10.9"
  }
 },
 "nbformat": 4,
 "nbformat_minor": 5
}
