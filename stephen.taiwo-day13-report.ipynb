{
 "cells": [
  {
   "cell_type": "code",
   "execution_count": 33,
   "id": "62528c2a-a549-4f19-8b16-90de49cb2f1b",
   "metadata": {},
   "outputs": [
    {
     "name": "stdout",
     "output_type": "stream",
     "text": [
      "6 28 496 8128 "
     ]
    }
   ],
   "source": [
    "def sum_divisors(n):\n",
    "    \"\"\"\n",
    "    Calculate the sum of the divisors of a positive integer n less than itself.\n",
    "\n",
    "    Arg:\n",
    "    n (int) - The positive whose sum of divisors is to be find.\n",
    "\n",
    "    Return:\n",
    "    (int) - sum of the divisors of n less than n.\n",
    "    \"\"\"\n",
    "    sum = 0\n",
    "    for i in range(1, n):\n",
    "        if n % i == 0:\n",
    "            sum += i\n",
    "    return sum\n",
    "\n",
    "def check_perfect(n):\n",
    "    \"\"\"\n",
    "    Checks if a number is a perfect number.\n",
    "    \"\"\"\n",
    "    if sum_divisors(n) == n:\n",
    "        return True\n",
    "    else:\n",
    "        return False\n",
    "\n",
    "def calc_perfect_numbers(max_exclusive):\n",
    "    \"\"\"\n",
    "    Returns all perfect numbers less than max_exclusive.\n",
    "    \"\"\"\n",
    "    for i in range(1, max_exclusive):\n",
    "        if check_perfect(i):\n",
    "            print(i, end = \" \")\n",
    "            \n",
    "calc_perfect_numbers(10000)"
   ]
  },
  {
   "cell_type": "code",
   "execution_count": 6,
   "id": "4c2fe703-256e-46c6-87fa-68126e9ad53f",
   "metadata": {},
   "outputs": [
    {
     "name": "stdout",
     "output_type": "stream",
     "text": [
      "[2, 3, 5, 7, 11, 13]\n",
      "[2, 3, 5, 7, 11, 13, 17, 19, 23]\n",
      "[2, 3, 5, 7, 11, 13, 17, 19, 23, 29, 31, 37, 41, 43, 47]\n"
     ]
    }
   ],
   "source": [
    "def check_prime(n):\n",
    "    \"\"\"\n",
    "    Check if a number is prime.\n",
    "    \"\"\"\n",
    "    fact = []\n",
    "    for i in range(1, n+1):\n",
    "        if n % i == 0:\n",
    "            fact.append(i)\n",
    "    if len(fact) == 2:\n",
    "        return True\n",
    "\n",
    "def calc_primes_up_to(max_value):\n",
    "    \"\"\"\n",
    "    Display all prime numbers less than max_value.\n",
    "    \"\"\"\n",
    "    prime = []\n",
    "    for i in range(2, max_value):\n",
    "        if check_prime(i):\n",
    "            prime.append(i)\n",
    "    return prime\n",
    "\n",
    "print(calc_primes_up_to(15))\n",
    "print(calc_primes_up_to(25))\n",
    "print(calc_primes_up_to(50))"
   ]
  },
  {
   "cell_type": "code",
   "execution_count": 99,
   "id": "409b5d5e-18fc-4309-a29e-0a9a4e32ba09",
   "metadata": {},
   "outputs": [
    {
     "name": "stdout",
     "output_type": "stream",
     "text": [
      "[2, 3, 5, 7, 11, 13]\n",
      "[2, 3, 5, 7, 11, 13, 17, 19, 23]\n",
      "[2, 3, 5, 7, 11, 13, 17, 19, 23, 29, 31, 37, 41, 43, 47]\n"
     ]
    }
   ],
   "source": [
    "def calc_primes_up_to(max_value):\n",
    "    \"\"\"\n",
    "    Display all prime numbers less than max_value.\n",
    "    \"\"\"\n",
    "    prime = [1 for i in range(max_value + 1)]\n",
    "    p = 2\n",
    "    while (p * p <= max_value):\n",
    "        if prime[p] == 1:\n",
    "            for j in range(p * p, max_value + 1, p):\n",
    "                prime[j] = 0\n",
    "        p += 1\n",
    "    prime_num = []\n",
    "    for p in range(2, max_value + 1):\n",
    "        if prime[p] == 1:\n",
    "            prime_num.append(p)\n",
    "    return prime_num\n",
    "\n",
    "print(calc_primes_up_to(15))\n",
    "print(calc_primes_up_to(25))\n",
    "print(calc_primes_up_to(50))"
   ]
  },
  {
   "cell_type": "code",
   "execution_count": 69,
   "id": "a1c00c76-ed33-4ab3-9806-794ee84c4fe3",
   "metadata": {},
   "outputs": [
    {
     "name": "stdout",
     "output_type": "stream",
     "text": [
      "Twins: {3: 5, 5: 7, 11: 13, 17: 19, 29: 31, 41: 43}\n",
      "Cousins: {3: 7, 7: 11, 13: 17, 19: 23, 37: 41, 43: 47}\n",
      "Sexy: {5: 11, 7: 13, 11: 17, 13: 19, 17: 23, 23: 29, 31: 37, 37: 43, 41: 47}\n"
     ]
    }
   ],
   "source": [
    "def find_twin_counsin_sexy_prime(n):\n",
    "    \"\"\"\n",
    "    Display the twins, cousins, and sexy prime pairs less than n.\n",
    "    \"\"\"\n",
    "    twins = {}\n",
    "    cousins = {}\n",
    "    sexy = {}\n",
    "    prime = calc_primes_up_to(n)\n",
    "    for i in prime:\n",
    "        for j in prime:\n",
    "            if j - i == 2:\n",
    "                twins[i] = j\n",
    "    for i in prime:\n",
    "        for j in prime:\n",
    "            if j - i == 4:\n",
    "                cousins[i] = j\n",
    "    for i in prime:\n",
    "        for j in prime:\n",
    "            if j - i == 6:\n",
    "                sexy[i] = j\n",
    "    return twins, cousins, sexy\n",
    "T, C, S = find_twin_counsin_sexy_prime(50)\n",
    "print(\"Twins: {}\".format(T))\n",
    "print(\"Cousins: {}\".format(C))\n",
    "print(\"Sexy: {}\".format(S))"
   ]
  },
  {
   "cell_type": "code",
   "execution_count": 77,
   "id": "cd0ad6a7-f21d-4d7f-9c34-2624d6b6640b",
   "metadata": {},
   "outputs": [
    {
     "name": "stdout",
     "output_type": "stream",
     "text": [
      "10\n",
      "28\n"
     ]
    }
   ],
   "source": [
    "def calc_sum_of_digits(value):\n",
    "    \"\"\"\n",
    "    Calculate the sum of the digits in a given number.\n",
    "    \"\"\"\n",
    "    num = str(value)\n",
    "    sum = 0\n",
    "    for i in num:\n",
    "        sum += int(i)\n",
    "    return sum\n",
    "\n",
    "print(calc_sum_of_digits(1234))\n",
    "print(calc_sum_of_digits(1234567))"
   ]
  },
  {
   "cell_type": "code",
   "execution_count": 81,
   "id": "15c580be-70b2-419b-9872-6f638ac3fb81",
   "metadata": {},
   "outputs": [
    {
     "name": "stdout",
     "output_type": "stream",
     "text": [
      "101\n",
      "111\n",
      "10110\n",
      "101010\n",
      "100000000\n"
     ]
    }
   ],
   "source": [
    "def to_binary(n):\n",
    "    \"\"\"\n",
    "    Convert decimal number to binary.\n",
    "    \"\"\"\n",
    "    binary = \"\"\n",
    "    while n > 0:\n",
    "        binary += str(n % 2)\n",
    "        n = n // 2\n",
    "    return binary[::-1]\n",
    "\n",
    "print(to_binary(5))\n",
    "print(to_binary(7))\n",
    "print(to_binary(22))\n",
    "print(to_binary(42))\n",
    "print(to_binary(256))"
   ]
  },
  {
   "cell_type": "code",
   "execution_count": 14,
   "id": "d67a7ed5-80a6-44f5-a21f-ee9c33d1d286",
   "metadata": {},
   "outputs": [
    {
     "name": "stdout",
     "output_type": "stream",
     "text": [
      "101\n",
      "111\n",
      "10110\n",
      "101010\n",
      "100000000\n"
     ]
    }
   ],
   "source": [
    "def to_binary(n):\n",
    "    \"\"\"\n",
    "    Convert decimal number to binary.\n",
    "    \"\"\"\n",
    "    if n == 0:\n",
    "        return 0\n",
    "    else:\n",
    "        return n % 2 + 10 * to_binary(int(n // 2))\n",
    "\n",
    "print(to_binary(5))\n",
    "print(to_binary(7))\n",
    "print(to_binary(22))\n",
    "print(to_binary(42))\n",
    "print(to_binary(256))"
   ]
  },
  {
   "cell_type": "code",
   "execution_count": 12,
   "id": "badb69b9-2e06-4738-b6bd-be2cfbd912d0",
   "metadata": {},
   "outputs": [
    {
     "data": {
      "text/plain": [
       "'hello +++ world +++ message'"
      ]
     },
     "execution_count": 12,
     "metadata": {},
     "output_type": "execute_result"
    }
   ],
   "source": [
    "def join(values, delimiter):\n",
    "    \"\"\"\n",
    "    Join lsit of strings together with a delimeter.\n",
    "    \"\"\"\n",
    "    string = \"\"\n",
    "    for i in range(len(values) - 1):\n",
    "        string += values[i] + delimiter\n",
    "    string += values[-1]\n",
    "    return string\n",
    "\n",
    "values = [\"hello\", \"world\", \"message\"]\n",
    "delimiter = \" +++ \"\n",
    "join(values, delimiter)"
   ]
  },
  {
   "cell_type": "code",
   "execution_count": 117,
   "id": "562ec484-ef34-4de8-aa6b-3c57503f0603",
   "metadata": {},
   "outputs": [
    {
     "name": "stdout",
     "output_type": "stream",
     "text": [
      "True\n",
      "False\n"
     ]
    }
   ],
   "source": [
    "def contains_all(values, search_values):\n",
    "    \"\"\"\n",
    "    Check if a list of values are all in another list.\n",
    "    \"\"\"\n",
    "    truth_value = []\n",
    "    for i in search_values:\n",
    "        if i in values:\n",
    "            truth_value.append(True)\n",
    "        else:\n",
    "            truth_value.append(False)\n",
    "    t = True\n",
    "    for i in truth_value:\n",
    "        t = t & i\n",
    "    return t\n",
    "\n",
    "values = [0, 1, 2, 3, 4, 5, 6, 7, 8, 9]\n",
    "search_values_1 = [7, 2]\n",
    "search_values_2 = [5, 11]\n",
    "print(contains_all(values, search_values_1))\n",
    "print(contains_all(values, search_values_2))"
   ]
  }
 ],
 "metadata": {
  "kernelspec": {
   "display_name": "Python 3 (ipykernel)",
   "language": "python",
   "name": "python3"
  },
  "language_info": {
   "codemirror_mode": {
    "name": "ipython",
    "version": 3
   },
   "file_extension": ".py",
   "mimetype": "text/x-python",
   "name": "python",
   "nbconvert_exporter": "python",
   "pygments_lexer": "ipython3",
   "version": "3.10.9"
  }
 },
 "nbformat": 4,
 "nbformat_minor": 5
}
