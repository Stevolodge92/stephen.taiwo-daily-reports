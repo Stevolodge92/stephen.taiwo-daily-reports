{
 "cells": [
  {
   "cell_type": "code",
   "execution_count": 1,
   "id": "157f866e-faf2-43df-968a-170e58795a3f",
   "metadata": {},
   "outputs": [
    {
     "data": {
      "text/plain": [
       "5"
      ]
     },
     "execution_count": 1,
     "metadata": {},
     "output_type": "execute_result"
    }
   ],
   "source": [
    "def find_max(a, b):\n",
    "    \"\"\" \n",
    "    This function display the max of three numeric values.\n",
    "    \n",
    "    Args: a and b (numeric) - two numbers to get the maximum\n",
    "\n",
    "    Return: The max of a and b \n",
    "    \"\"\"\n",
    "    if a <= b:\n",
    "        return b\n",
    "    else:\n",
    "        return a\n",
    "\n",
    "find_max(2, 5)"
   ]
  },
  {
   "cell_type": "code",
   "execution_count": 2,
   "id": "b06d96bd-d1ea-48c7-bb34-500d1c3f6ced",
   "metadata": {},
   "outputs": [
    {
     "data": {
      "text/plain": [
       "5"
      ]
     },
     "execution_count": 2,
     "metadata": {},
     "output_type": "execute_result"
    }
   ],
   "source": [
    "def find_max_of_three(a, b, c):\n",
    "    \"\"\" \n",
    "    This function calculate the maximum of three numeric values.\n",
    "    \n",
    "    Args: a, b, and c (numeric) - three numbers to get the maximum\n",
    "\n",
    "    Return: (numeric) - The max of a, b, and c\n",
    "    \"\"\"\n",
    "    return find_max(find_max(a, b), find_max(b, c))\n",
    "\n",
    "find_max_of_three(2, 3, 5)"
   ]
  },
  {
   "cell_type": "code",
   "execution_count": 3,
   "id": "64a03a80-c2fe-4881-a92f-8e46e91bfe8c",
   "metadata": {},
   "outputs": [
    {
     "name": "stdout",
     "output_type": "stream",
     "text": [
      "10 7\n"
     ]
    }
   ],
   "source": [
    "def list_length(lst):\n",
    "    \"\"\"\n",
    "    Displays the length of a given list.\n",
    "\n",
    "    Input: lst (list or str) \n",
    "    Output: The length of the list\n",
    "    \"\"\"\n",
    "    count = 0\n",
    "    for i in lst:\n",
    "        count += 1\n",
    "    return count\n",
    "\n",
    "A = [1, 2, 3, 4, 5, 6, 7, 8, 9, 10]\n",
    "B = \"Stephen\"\n",
    "print(list_length(A), list_length(B))"
   ]
  },
  {
   "cell_type": "code",
   "execution_count": 4,
   "id": "96cbbd48-044c-4ec6-9d9c-7c2f5538a4b9",
   "metadata": {},
   "outputs": [
    {
     "data": {
      "text/plain": [
       "True"
      ]
     },
     "execution_count": 4,
     "metadata": {},
     "output_type": "execute_result"
    }
   ],
   "source": [
    "def check_vowel(s):\n",
    "    \"\"\"\n",
    "    Tells whethe a given letter is vowel.\n",
    "\n",
    "    Input: s (str) - a letter to check if it is a vowel\n",
    "    Output: True or False\n",
    "    \"\"\"\n",
    "    vowels = [\"a\", \"e\", \"i\", \"o\", \"u\"]\n",
    "    if s.lower() in vowels:\n",
    "        return True\n",
    "    else:\n",
    "        return False\n",
    "\n",
    "check_vowel(\"A\")"
   ]
  },
  {
   "cell_type": "code",
   "execution_count": 5,
   "id": "348ed145-7f0a-47fd-a2c0-13309b894c30",
   "metadata": {},
   "outputs": [
    {
     "data": {
      "text/plain": [
       "'SoStotepophohenon'"
      ]
     },
     "execution_count": 5,
     "metadata": {},
     "output_type": "execute_result"
    }
   ],
   "source": [
    "def encode(s):\n",
    "    \"\"\"\n",
    "    This pirpose of this function is to converts a given string \n",
    "    into “rövarspråket” (robber’s language) by doubling consonants \n",
    "    and placing “o” in between.\n",
    "\n",
    "    Input: s (str) - the string to convert\n",
    "    Output: (str) - robber's language\n",
    "    \"\"\"\n",
    "    C = \"bcdfghjklmnpqrstvwxyz\"\n",
    "    L = []\n",
    "    for i in s:\n",
    "        if i.lower() in C:\n",
    "            L.append(i + \"o\" + i)\n",
    "        else:\n",
    "            L.append(i)\n",
    "    L_2 = \"\".join(L)\n",
    "    return L_2\n",
    "\n",
    "encode(\"Stephen\")"
   ]
  },
  {
   "cell_type": "code",
   "execution_count": 6,
   "id": "664def37-7569-4aaf-9472-6d518d009062",
   "metadata": {},
   "outputs": [
    {
     "data": {
      "text/plain": [
       "55"
      ]
     },
     "execution_count": 6,
     "metadata": {},
     "output_type": "execute_result"
    }
   ],
   "source": [
    "def sum_elements(lst):\n",
    "    \"\"\"\n",
    "    This function returns the sum of the numbers in a given list.\n",
    "\n",
    "    Input: lst (list) - list of numbers\n",
    "    Output: (numeric) - Sum of the numbers in the list.\n",
    "    \"\"\"\n",
    "    s = 0\n",
    "    for i in lst:\n",
    "        s += i\n",
    "    return s\n",
    "\n",
    "N = [1, 2, 3, 4, 5, 6, 7, 8, 9, 10]\n",
    "sum_elements(N)"
   ]
  },
  {
   "cell_type": "code",
   "execution_count": 7,
   "id": "52dc64f7-8e89-4def-9556-ca143c1e02b7",
   "metadata": {},
   "outputs": [
    {
     "data": {
      "text/plain": [
       "3628800"
      ]
     },
     "execution_count": 7,
     "metadata": {},
     "output_type": "execute_result"
    }
   ],
   "source": [
    "def product_elements(lst):\n",
    "    \"\"\"\n",
    "    This function returns the product of the numbers in a given list.\n",
    "\n",
    "    Input: lst (list) - list of numbers\n",
    "    Output: (numeric) - Product of the numbers in the list.\n",
    "    \"\"\"\n",
    "    p = 1\n",
    "    for i in lst:\n",
    "        p *= i\n",
    "    return p\n",
    "\n",
    "N = [1, 2, 3, 4, 5, 6, 7, 8, 9, 10]\n",
    "product_elements(N)"
   ]
  },
  {
   "cell_type": "code",
   "execution_count": 8,
   "id": "53239a27-61dc-46a8-874c-184e6e2225b2",
   "metadata": {},
   "outputs": [
    {
     "data": {
      "text/plain": [
       "'yob a si nehpetS'"
      ]
     },
     "execution_count": 8,
     "metadata": {},
     "output_type": "execute_result"
    }
   ],
   "source": [
    "def reverse_string(s):\n",
    "    \"\"\" \n",
    "    Displays the reverse of a given string.\n",
    "\n",
    "    Input: s (str) - the strng to reverse\n",
    "    Output: (str) - The reverse of the string\n",
    "    \"\"\"\n",
    "    return s[::-1]\n",
    "\n",
    "A =\"Stephen is a boy\"\n",
    "reverse_string(A)"
   ]
  },
  {
   "cell_type": "code",
   "execution_count": 9,
   "id": "4ad8507f-2b03-41c5-8fcc-f3039fe3bd44",
   "metadata": {},
   "outputs": [
    {
     "name": "stdout",
     "output_type": "stream",
     "text": [
      "False True\n"
     ]
    }
   ],
   "source": [
    "def check_palindrome(s):\n",
    "    \"\"\"\n",
    "    Verify if a string reads the same forwards and backwards, i.e. is a palindrome.\n",
    "\n",
    "    Input: s (str) - A string to check whether it is a palindrome\n",
    "    Output: (bool) True or False\n",
    "    \"\"\"\n",
    "    if s == s[::-1]:\n",
    "        return True\n",
    "    else:\n",
    "        return False\n",
    "\n",
    "print(check_palindrome(\"Stephen\"), check_palindrome(\"racecar\"))"
   ]
  },
  {
   "cell_type": "code",
   "execution_count": 10,
   "id": "462da656-8408-445e-88b5-4e29ee3351b2",
   "metadata": {},
   "outputs": [
    {
     "data": {
      "text/plain": [
       "True"
      ]
     },
     "execution_count": 10,
     "metadata": {},
     "output_type": "execute_result"
    }
   ],
   "source": [
    "def check_membership(lst, n):\n",
    "    \"\"\"\n",
    "    Checks if a given value is presence in a given list.\n",
    "\n",
    "    Args:\n",
    "    lst (list) - A list to check if a value is there.\n",
    "    n (any type) - a value whose presence in a list is being checked\n",
    "\n",
    "    Return:\n",
    "    True or False (bool)\n",
    "    \"\"\"\n",
    "    count = 0\n",
    "    for i in lst:\n",
    "        if i == n:\n",
    "            count += 1\n",
    "    if count > 0:\n",
    "        return True\n",
    "    else:\n",
    "        return False\n",
    "\n",
    "A = [1, 3, 4, \"a\", True, 2.7, 3+4j]\n",
    "check_membership(A, 3+4j)"
   ]
  },
  {
   "cell_type": "code",
   "execution_count": 11,
   "id": "f28985db-f694-4f85-ace2-4d708bae0fd7",
   "metadata": {},
   "outputs": [
    {
     "data": {
      "text/plain": [
       "[1, 'a', True, (3+4j)]"
      ]
     },
     "execution_count": 11,
     "metadata": {},
     "output_type": "execute_result"
    }
   ],
   "source": [
    "def check_overlap(lst1, lst2):\n",
    "    \"\"\"\n",
    "    Identifies if two given list have any values in common.\n",
    "\n",
    "    Args:\n",
    "    lst1 (list) - The first of the lists to compare\n",
    "    lst2 (list) - The second of the lists to compare\n",
    "\n",
    "    Return:\n",
    "    The common values in the two lists\n",
    "    \"\"\"\n",
    "    common_list = []\n",
    "    for i in lst1:\n",
    "        if i in lst2:\n",
    "            common_list.append(i)\n",
    "    return common_list\n",
    "\n",
    "A = [1, 3, 4, \"a\", True, 2.7, 3+4j]\n",
    "B = [1, 2, 5, \"a\", \"b\", False, True, 3+4j]\n",
    "check_overlap(A, B)"
   ]
  },
  {
   "cell_type": "code",
   "execution_count": 12,
   "id": "26ea9e80-a353-4109-b088-bf4ad0d78cdd",
   "metadata": {},
   "outputs": [
    {
     "data": {
      "text/plain": [
       "'sssss'"
      ]
     },
     "execution_count": 12,
     "metadata": {},
     "output_type": "execute_result"
    }
   ],
   "source": [
    "def repeat_char(char, n):\n",
    "    \"\"\"\n",
    "    This functions display a string containing the given character repeated n times.\n",
    "\n",
    "    Args:\n",
    "    char (str) - A character to be repeated\n",
    "    n (int) - The number of time to repeat a character.\n",
    "\n",
    "    Condition: n must be a positive integer\n",
    "\n",
    "    Return: A string made up n char\n",
    "    \"\"\"\n",
    "    return char * n\n",
    "\n",
    "repeat_char(\"s\", 5)"
   ]
  },
  {
   "cell_type": "code",
   "execution_count": 13,
   "id": "5b50c9fe-f74a-49c3-b92d-0592f746e91f",
   "metadata": {},
   "outputs": [
    {
     "data": {
      "text/plain": [
       "10"
      ]
     },
     "execution_count": 13,
     "metadata": {},
     "output_type": "execute_result"
    }
   ],
   "source": [
    "def find_max_in_list(lst):\n",
    "    \"\"\"\n",
    "    Finds the largest number in a given list of numeric values.\n",
    "\n",
    "    Input:\n",
    "    lst (list) - The list to find its maximum\n",
    "\n",
    "    Return:\n",
    "    (numeric) - The largest number in the list\n",
    "    \"\"\"\n",
    "    max_num = lst[0]\n",
    "    for i in lst:\n",
    "        if max_num < i:\n",
    "            max_num = i\n",
    "    return max_num\n",
    "\n",
    "num_list = [1, 2, 6, 7, 10, 0, 5, 7]\n",
    "find_max_in_list(num_list)"
   ]
  },
  {
   "cell_type": "code",
   "execution_count": 38,
   "id": "a2a671e8-0fa8-4590-8975-102db6ce1304",
   "metadata": {},
   "outputs": [
    {
     "data": {
      "text/plain": [
       "{'stephen': 7, 'evans': 5, 'denyse': 6, 'joseph': 6}"
      ]
     },
     "execution_count": 38,
     "metadata": {},
     "output_type": "execute_result"
    }
   ],
   "source": [
    "def map_word_to_length(lst):\n",
    "    \"\"\"\n",
    "    Maps each word in a given list to it length.\n",
    "\n",
    "    Input:\n",
    "    lst (list) - A list of words to check their length\n",
    "\n",
    "    Return:\n",
    "    (dict) - A dictionary whose keys are the word in the list and values are their\n",
    "            respective lengths\n",
    "    \"\"\"\n",
    "    word_dict = {}\n",
    "    for word in lst:\n",
    "        word_dict[word] = list_length(word)\n",
    "    return word_dict\n",
    "\n",
    "A = [\"stephen\", \"evans\", \"denyse\", \"joseph\"]\n",
    "map_word_to_length(A)"
   ]
  },
  {
   "cell_type": "code",
   "execution_count": 30,
   "id": "34623030-41d2-4234-8492-8f8f6b46ff3f",
   "metadata": {},
   "outputs": [
    {
     "data": {
      "text/plain": [
       "'stephen'"
      ]
     },
     "execution_count": 30,
     "metadata": {},
     "output_type": "execute_result"
    }
   ],
   "source": [
    "def longest_word(lst):\n",
    "    \"\"\"\n",
    "    Displays the longest word in a given list\n",
    "\n",
    "    Input:\n",
    "    lst (list) - A list of words to pick out the longest word there\n",
    "\n",
    "    Return:\n",
    "    (str) - The longest word in the list\n",
    "    \"\"\"\n",
    "    long_word = lst[0]\n",
    "    for word in lst:\n",
    "        if list_length(word) > list_length(long_word):\n",
    "            long_word = word\n",
    "    return long_word\n",
    "\n",
    "A = [\"stephen\", \"evans\", \"denyse\", \"joseph\"]\n",
    "longest_word(A)"
   ]
  },
  {
   "cell_type": "code",
   "execution_count": 40,
   "id": "41c9fd53-0fcd-4fda-a23e-9cd58abaf5a7",
   "metadata": {},
   "outputs": [
    {
     "data": {
      "text/plain": [
       "['stephen', 'denyse', 'joseph']"
      ]
     },
     "execution_count": 40,
     "metadata": {},
     "output_type": "execute_result"
    }
   ],
   "source": [
    "def filter_words(lst, n):\n",
    "    \"\"\"\n",
    "    Displays all the words in a given list whose length are more than n.\n",
    "\n",
    "    Inputs:\n",
    "    lst (list) - A list of words to compare the length of each words with n\n",
    "    n (int) - A positive integer that determine the length of the words must exceed\n",
    "\n",
    "    Return:\n",
    "    (list) - List of words whose length are greater than n\n",
    "    \"\"\"\n",
    "    words_n = []\n",
    "    for word in lst:\n",
    "        if list_length(word) > n:\n",
    "            words_n.append(word)\n",
    "    return words_n\n",
    "\n",
    "A = [\"stephen\", \"evans\", \"denyse\", \"joseph\"]\n",
    "filter_words(A, 5)"
   ]
  },
  {
   "cell_type": "code",
   "execution_count": null,
   "id": "eb04db93-41fe-467a-893e-65aeff2ab9d9",
   "metadata": {},
   "outputs": [],
   "source": []
  }
 ],
 "metadata": {
  "kernelspec": {
   "display_name": "Python 3 (ipykernel)",
   "language": "python",
   "name": "python3"
  },
  "language_info": {
   "codemirror_mode": {
    "name": "ipython",
    "version": 3
   },
   "file_extension": ".py",
   "mimetype": "text/x-python",
   "name": "python",
   "nbconvert_exporter": "python",
   "pygments_lexer": "ipython3",
   "version": "3.10.9"
  }
 },
 "nbformat": 4,
 "nbformat_minor": 5
}
