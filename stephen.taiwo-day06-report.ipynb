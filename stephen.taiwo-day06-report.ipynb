{
 "cells": [
  {
   "cell_type": "markdown",
   "id": "80df9e4f-c3fa-4382-b66a-d436f964f045",
   "metadata": {},
   "source": [
    "## Question 1"
   ]
  },
  {
   "cell_type": "markdown",
   "id": "b882f2ce-6e73-4eb5-b6cf-c5be055ff4f4",
   "metadata": {},
   "source": [
    "### (i)"
   ]
  },
  {
   "cell_type": "code",
   "execution_count": 76,
   "id": "467fa1ca-9df8-4c2e-9f78-fab9594cae94",
   "metadata": {},
   "outputs": [
    {
     "name": "stdin",
     "output_type": "stream",
     "text": [
      "Enter the value of n:  4\n"
     ]
    },
    {
     "name": "stdout",
     "output_type": "stream",
     "text": [
      "10\n"
     ]
    }
   ],
   "source": [
    "# A program to find the sum of the odd natural number less than n\n",
    "\n",
    "n = int(input(\"Enter the value of n: \"))\n",
    "sum = 0\n",
    "for i in range (1, n, 2):\n",
    "    sum = sum + i + 3   \n",
    "print(sum)"
   ]
  },
  {
   "cell_type": "markdown",
   "id": "0769f10d-da29-4f78-b0c7-1adc05d33f8c",
   "metadata": {},
   "source": [
    "### (ii)"
   ]
  },
  {
   "cell_type": "code",
   "execution_count": 15,
   "id": "c0d3d0aa-3d47-4617-8346-0b04781cdb77",
   "metadata": {},
   "outputs": [
    {
     "name": "stdin",
     "output_type": "stream",
     "text": [
      "Enter the value of n:  5\n"
     ]
    },
    {
     "name": "stdout",
     "output_type": "stream",
     "text": [
      "105\n"
     ]
    }
   ],
   "source": [
    "# A program to find the product of the even natural number less than n\n",
    "\n",
    "n = int(input(\"Enter the value of n: \"))\n",
    "product = 1\n",
    "for i in range (0, n, 2):\n",
    "    product = product * (i  + 3) \n",
    "print(product)"
   ]
  },
  {
   "cell_type": "markdown",
   "id": "8ef0e1d6-feee-43d7-bd7a-d00c7c5366c1",
   "metadata": {},
   "source": [
    "## Question 2"
   ]
  },
  {
   "cell_type": "code",
   "execution_count": 24,
   "id": "406e995a-16b1-4ec7-8479-114efb140df6",
   "metadata": {},
   "outputs": [
    {
     "name": "stdin",
     "output_type": "stream",
     "text": [
      "Enter the number of the day (from 0 - 6):  3\n"
     ]
    },
    {
     "name": "stdout",
     "output_type": "stream",
     "text": [
      "Wednesday\n"
     ]
    }
   ],
   "source": [
    "day_num = int(input(\"Enter the number of the day (from 0 - 6): \"))\n",
    "days = [\"Weekend\", \"Monday\", \"Tuesday\", \"Wednesday\", \"Thursday\", \"Friday\"]\n",
    "if day_num == 0 or day_num == 6:\n",
    "    print(\"Weekend\")\n",
    "elif day_num in range(1, 6):\n",
    "    print(days[day_num])\n",
    "else:\n",
    "    print(\"Invalid number! The number must be between 0 and 6\")"
   ]
  },
  {
   "cell_type": "markdown",
   "id": "aebbbe11-efcf-4523-aca0-08e8029c0a2a",
   "metadata": {},
   "source": [
    "## Question 3"
   ]
  },
  {
   "cell_type": "code",
   "execution_count": 33,
   "id": "d1cefc43-485f-448f-a85f-f9f921b48e14",
   "metadata": {},
   "outputs": [
    {
     "name": "stdin",
     "output_type": "stream",
     "text": [
      "Enter the number of the day (from 0 - 11):  5\n"
     ]
    },
    {
     "name": "stdout",
     "output_type": "stream",
     "text": [
      "The number of days in the month is 30\n"
     ]
    }
   ],
   "source": [
    "month_num = int(input(\"Enter the number of the day (from 0 - 11): \"))\n",
    "if month_num == 1:\n",
    "    print(\"The number of days in the month is 28\")\n",
    "elif month_num in (3, 5, 8, 10):\n",
    "    print(\"The number of days in the month is 30\")\n",
    "elif month_num in (0, 2, 4, 6, 7, 9, 11):\n",
    "    print(\"The number of days in the month is 31\")\n",
    "else:\n",
    "    print(\"Invalid number! The number must be between 0 and 11\")"
   ]
  },
  {
   "cell_type": "markdown",
   "id": "9ea8568f-5200-44b9-bac9-9e1418f2039c",
   "metadata": {},
   "source": [
    "## Question 4"
   ]
  },
  {
   "cell_type": "markdown",
   "id": "58b6eb79-46d5-4fa8-8910-5210e70af8ac",
   "metadata": {},
   "source": [
    "### For Loop"
   ]
  },
  {
   "cell_type": "code",
   "execution_count": 39,
   "id": "2f2ea6f5-530e-47f7-8d56-fc683445777c",
   "metadata": {},
   "outputs": [
    {
     "name": "stdout",
     "output_type": "stream",
     "text": [
      "Stephen Taiwo\n",
      "Stephen Taiwo\n",
      "Stephen Taiwo\n"
     ]
    }
   ],
   "source": [
    "for i in range(0, 3):\n",
    "    print(\"Stephen Taiwo\")"
   ]
  },
  {
   "cell_type": "markdown",
   "id": "a8f1f393-4a04-46b9-bea6-a82740624579",
   "metadata": {},
   "source": [
    "### While Loop"
   ]
  },
  {
   "cell_type": "code",
   "execution_count": 42,
   "id": "066f3e6a-ab88-4e37-9d02-a193077c77a0",
   "metadata": {},
   "outputs": [
    {
     "name": "stdout",
     "output_type": "stream",
     "text": [
      "Stephen Taiwo\n",
      "Stephen Taiwo\n",
      "Stephen Taiwo\n"
     ]
    }
   ],
   "source": [
    "counter = 0\n",
    "while counter < 3:\n",
    "    print(\"Stephen Taiwo\")\n",
    "    counter += 1"
   ]
  },
  {
   "cell_type": "markdown",
   "id": "d19f1e77-8968-42c9-8046-b3cfce1faf74",
   "metadata": {},
   "source": [
    "## Question 5"
   ]
  },
  {
   "cell_type": "code",
   "execution_count": 72,
   "id": "4858e39d-2a2a-4e05-8129-38681fd54c71",
   "metadata": {},
   "outputs": [
    {
     "name": "stdin",
     "output_type": "stream",
     "text": [
      "Enter the first initial value, a_0:  1\n",
      "Enter the second initial value, a_1:  1\n"
     ]
    },
    {
     "name": "stdout",
     "output_type": "stream",
     "text": [
      "1 1 2 3 5 8 13 21 34 55 89 144 233 377 610 "
     ]
    }
   ],
   "source": [
    "a_0 = int(input(\"Enter the first initial value, a_0: \"))\n",
    "a_1 = int(input(\"Enter the second initial value, a_1: \"))\n",
    "print(a_0, end = \" \")\n",
    "print(a_1, end = \" \")\n",
    "for i in range(13):\n",
    "    a_n = a_0 + a_1\n",
    "    print(a_n, end = \" \")\n",
    "    a_0 = a_1\n",
    "    a_1 = a_n"
   ]
  },
  {
   "cell_type": "markdown",
   "id": "40bae614-b4db-4b77-9e28-3a1d3031c3b8",
   "metadata": {},
   "source": [
    "## Question 6"
   ]
  },
  {
   "cell_type": "code",
   "execution_count": 70,
   "id": "86d67d31-462c-4df0-9042-b45e7a024ffc",
   "metadata": {},
   "outputs": [
    {
     "name": "stdin",
     "output_type": "stream",
     "text": [
      "Enter the first initial value, x_0:  1\n",
      "Enter the second initial value, x_1:  1\n"
     ]
    },
    {
     "name": "stdout",
     "output_type": "stream",
     "text": [
      "1, 1, 3.3333333333333335, 4.111111111111111, 11.37037037037037, 16.123456790123456, 39.485596707818935, 61.53223593964334, 138.96753543667126, 230.9192196311538, 493.87567952039836, 857.3828854002609, 1767.4213336946154, 3161.2891007656544, 6356.027034672397, 11602.542980521095, 22935.595430857556, 42452.82741851581, 82957.72876541127, 155011.05851068452, 300543.53913312865, 565214.3552430965, 1090035.402480418, 2058988.1998894287, 3956435.6074043973, 7495776.468803085, 14367898.978480887, 27276629.065902885, 52195906.62407695, 99228522.73906763, "
     ]
    }
   ],
   "source": [
    "x_0 = int(input(\"Enter the first initial value, x_0: \"))\n",
    "x_1 = int(input(\"Enter the second initial value, x_1: \"))\n",
    "print(x_0, end = \", \")\n",
    "print(x_1, end = \", \")\n",
    "for i in range(28):\n",
    "    x_n = (3 * x_0) + (x_1 / 3)\n",
    "    print(x_n, end = \", \")\n",
    "    x_0 = x_1\n",
    "    x_1 = x_n"
   ]
  },
  {
   "cell_type": "markdown",
   "id": "d153d6ac-f9ee-4fe4-9210-b07570dbbae3",
   "metadata": {},
   "source": [
    "## Question 7"
   ]
  },
  {
   "cell_type": "markdown",
   "id": "d1ac8f53-eefa-4214-b8ff-d31f0fa33a9a",
   "metadata": {},
   "source": [
    "### (a) Using conditional statement"
   ]
  },
  {
   "cell_type": "code",
   "execution_count": 100,
   "id": "ad87e2ef-8fd8-477b-a3cc-3f9f324eb8d8",
   "metadata": {},
   "outputs": [
    {
     "name": "stdin",
     "output_type": "stream",
     "text": [
      "Enter the year:  1999\n"
     ]
    },
    {
     "name": "stdout",
     "output_type": "stream",
     "text": [
      "1999 is not a leap year.\n"
     ]
    }
   ],
   "source": [
    "year = int(input(\"Enter the year: \"))\n",
    "if (year % 4 == 0) and (year % 100 != 0) or (year % 400 == 0):\n",
    "    print(\"{} is a leap year.\".format(year))\n",
    "else:\n",
    "    print(\"{} is not a leap year.\".format(year))"
   ]
  },
  {
   "cell_type": "markdown",
   "id": "042aab94-c353-40b6-b8c6-436c3c9a369a",
   "metadata": {},
   "source": [
    "### (b) Using Logical operators"
   ]
  },
  {
   "cell_type": "code",
   "execution_count": 111,
   "id": "bc65733e-0439-4bb6-86e6-4fe7fed65e71",
   "metadata": {},
   "outputs": [
    {
     "name": "stdin",
     "output_type": "stream",
     "text": [
      "Enter the year:  1999\n"
     ]
    },
    {
     "name": "stdout",
     "output_type": "stream",
     "text": [
      "1999 is not a leap year\n"
     ]
    }
   ],
   "source": [
    "year = int(input(\"Enter the year: \"))\n",
    "check_leap = (year % 4 == 0) and (year % 100 != 0) or (year % 400 == 0)\n",
    "output = [\"{} is not a leap year\".format(year), \"{} is a leap year\".format(year)]\n",
    "print(output[check_leap])"
   ]
  },
  {
   "cell_type": "markdown",
   "id": "66611743-46b1-4fbd-be1d-35b375349d17",
   "metadata": {},
   "source": [
    "## Question 8"
   ]
  },
  {
   "cell_type": "markdown",
   "id": "f027f174-b9b7-4fb7-9457-ed8d222080b1",
   "metadata": {},
   "source": [
    "### (a) For Loop"
   ]
  },
  {
   "cell_type": "code",
   "execution_count": 95,
   "id": "435df637-666c-458c-9169-c13a599cc79f",
   "metadata": {},
   "outputs": [
    {
     "name": "stdin",
     "output_type": "stream",
     "text": [
      "Enter the value of n:  4\n"
     ]
    },
    {
     "name": "stdout",
     "output_type": "stream",
     "text": [
      "The sum of the square of the first 4 natural numbers is 30\n"
     ]
    }
   ],
   "source": [
    "n = int(input(\"Enter the value of n: \"))\n",
    "sum = 0\n",
    "for i in range(1, n+1):\n",
    "    sum += i**2\n",
    "print(\"The sum of the square of the first {} natural numbers is {}\".format(n, sum))"
   ]
  },
  {
   "cell_type": "markdown",
   "id": "5d9a4e54-dc7b-4de1-924c-b291f40d81db",
   "metadata": {},
   "source": [
    "### (a) While Loop"
   ]
  },
  {
   "cell_type": "code",
   "execution_count": 93,
   "id": "711a187c-144a-4aae-8780-d1a062cb7bf5",
   "metadata": {},
   "outputs": [
    {
     "name": "stdin",
     "output_type": "stream",
     "text": [
      "Enter the value of n:  4\n"
     ]
    },
    {
     "name": "stdout",
     "output_type": "stream",
     "text": [
      "The sum of the square of the first 4 natural numbers is 30\n"
     ]
    }
   ],
   "source": [
    "n = int(input(\"Enter the value of n: \"))\n",
    "i = 1\n",
    "sum = 0\n",
    "while i <= n:\n",
    "    sum += i ** 2\n",
    "    i += 1\n",
    "print(\"The sum of the square of the first {} natural numbers is {}\".format(n, sum))"
   ]
  },
  {
   "cell_type": "markdown",
   "id": "3f3dd4c6-7237-4c1a-8c41-df66d9b246f1",
   "metadata": {},
   "source": [
    "### (b) For Loop"
   ]
  },
  {
   "cell_type": "code",
   "execution_count": 148,
   "id": "492f3e57-f9d1-4493-b297-218f6484cdae",
   "metadata": {},
   "outputs": [
    {
     "name": "stdin",
     "output_type": "stream",
     "text": [
      "Enter a natural number, M:  100\n"
     ]
    },
    {
     "name": "stdout",
     "output_type": "stream",
     "text": [
      "7 is the smallest natural number such that the sum of the square of the first 7 natural number is greater or equal to 100\n"
     ]
    }
   ],
   "source": [
    "M = int(input(\"Enter a natural number, M: \"))\n",
    "sum = 0\n",
    "for i in range(1, M):\n",
    "    sum += i**2\n",
    "    if sum >= M:\n",
    "        print(\"{} is the smallest natural number such that the sum of the square of the first {} natural number is greater or equal to {}\".format(i, i, M))\n",
    "        break"
   ]
  },
  {
   "cell_type": "markdown",
   "id": "3e3512c5-ab96-40ff-9c60-7eff71484642",
   "metadata": {},
   "source": [
    "### (b) While Loop"
   ]
  },
  {
   "cell_type": "code",
   "execution_count": 150,
   "id": "fd64f4ad-45c1-4a0a-93e7-fb881017937e",
   "metadata": {},
   "outputs": [
    {
     "name": "stdin",
     "output_type": "stream",
     "text": [
      "Enter a natural number, M:  100\n"
     ]
    },
    {
     "name": "stdout",
     "output_type": "stream",
     "text": [
      "7 is the smallest natural number such that the sum of the square of the first 7 natural number is greater or equal to 100\n"
     ]
    }
   ],
   "source": [
    "M = int(input(\"Enter a natural number, M: \"))\n",
    "i = 1\n",
    "sum = 0\n",
    "while sum < M:\n",
    "    sum += i ** 2\n",
    "    i += 1\n",
    "print(\"{} is the smallest natural number such that the sum of the square of the first {} natural number is greater or equal to {}\".format(i-1, i-1, M))"
   ]
  },
  {
   "cell_type": "markdown",
   "id": "074b3bf0-82b1-4a30-ae1e-1765330a189f",
   "metadata": {},
   "source": [
    "## Question 9"
   ]
  },
  {
   "cell_type": "markdown",
   "id": "b5ede6e5-c001-402b-88fc-cf00db5adbf8",
   "metadata": {},
   "source": [
    "### (a)"
   ]
  },
  {
   "cell_type": "code",
   "execution_count": 82,
   "id": "6bc60e0d-9e55-4a20-b2d6-bba44d70d6f5",
   "metadata": {},
   "outputs": [
    {
     "name": "stdin",
     "output_type": "stream",
     "text": [
      "Enter a natural number you want to find the divisors:  10\n"
     ]
    },
    {
     "name": "stdout",
     "output_type": "stream",
     "text": [
      "The diviors of 10 are:\n",
      "[1, 2, 5, 10]\n"
     ]
    }
   ],
   "source": [
    "N = int(input(\"Enter a natural number you want to find the divisors: \"))\n",
    "divisors = []\n",
    "for i in range(1, N+1):\n",
    "    if N % i == 0:\n",
    "        divisors.append(i)\n",
    "print(\"The diviors of {} are:\".format(N))\n",
    "print(divisors)"
   ]
  },
  {
   "cell_type": "markdown",
   "id": "c16819cc-2588-4d9a-8438-18e01536e5b0",
   "metadata": {},
   "source": [
    "### (b)"
   ]
  },
  {
   "cell_type": "code",
   "execution_count": 88,
   "id": "ae6459ae-2807-4db7-83bc-8a732df11694",
   "metadata": {},
   "outputs": [
    {
     "name": "stdin",
     "output_type": "stream",
     "text": [
      "Enter a natural number you want to find the divisors:  10\n"
     ]
    },
    {
     "name": "stdout",
     "output_type": "stream",
     "text": [
      "The prime factors of 10 are:\n",
      "[2, 5]\n"
     ]
    }
   ],
   "source": [
    "N = int(input(\"Enter a natural number you want to find the divisors: \"))\n",
    "prime_factors = set()\n",
    "print(\"The prime factors of {} are:\".format(N))\n",
    "for i in range(2, N+1):\n",
    "   while N % i == 0:\n",
    "       prime_factors.add(i)\n",
    "       N = N / i\n",
    "print(list(prime_factors))"
   ]
  },
  {
   "cell_type": "markdown",
   "id": "42d7b2b1-4224-4ba6-a7f4-ef65b2eba4cf",
   "metadata": {},
   "source": [
    "## Question 10"
   ]
  },
  {
   "cell_type": "code",
   "execution_count": 201,
   "id": "f2d14b83-fddd-40ae-a70f-b0f7d897af8c",
   "metadata": {},
   "outputs": [
    {
     "name": "stdin",
     "output_type": "stream",
     "text": [
      "Enter an integer between 0 and 9:  10\n"
     ]
    },
    {
     "name": "stdout",
     "output_type": "stream",
     "text": [
      "You need to enter an integer between 0 and 9. Try again!\n"
     ]
    },
    {
     "name": "stdin",
     "output_type": "stream",
     "text": [
      "Enter an integer between 0 and 9:  12\n"
     ]
    },
    {
     "name": "stdout",
     "output_type": "stream",
     "text": [
      "You need to enter an integer between 0 and 9. Try again!\n"
     ]
    },
    {
     "name": "stdin",
     "output_type": "stream",
     "text": [
      "Enter an integer between 0 and 9:  9\n",
      "Enter a natural number the multiplication will reach 12\n"
     ]
    },
    {
     "name": "stdout",
     "output_type": "stream",
     "text": [
      "9 * 0 = 0\n",
      "9 * 1 = 9\n",
      "9 * 2 = 18\n",
      "9 * 3 = 27\n",
      "9 * 4 = 36\n",
      "9 * 5 = 45\n",
      "9 * 6 = 54\n",
      "9 * 7 = 63\n",
      "9 * 8 = 72\n",
      "9 * 9 = 81\n",
      "9 * 10 = 90\n",
      "9 * 11 = 99\n",
      "9 * 12 = 108\n"
     ]
    }
   ],
   "source": [
    "while True:\n",
    "    n = int(input(\"Enter an integer between 0 and 9: \"))\n",
    "    if n in range(10):\n",
    "        while True:\n",
    "            N = int(input(\"Enter a natural number the multiplication will reach\"))\n",
    "            if (N > 0):\n",
    "                for i in range(N+1):\n",
    "                    print(\"{} * {} = {}\".format(n, i, n * i))\n",
    "                break\n",
    "            else:\n",
    "                print(\"You need to enter a natural number. Try again!\")\n",
    "        break\n",
    "    else:\n",
    "        print(\"You need to enter an integer between 0 and 9. Try again!\")"
   ]
  },
  {
   "cell_type": "markdown",
   "id": "4361b719-2ebc-4252-8f7a-a6558714a32c",
   "metadata": {},
   "source": [
    "## Question 11"
   ]
  },
  {
   "cell_type": "code",
   "execution_count": 14,
   "id": "1387e4b6-96b8-4428-9a7d-95d78bf74a8d",
   "metadata": {},
   "outputs": [
    {
     "name": "stdout",
     "output_type": "stream",
     "text": [
      "The multiples of 3, 7 or 11 between 0 and 40 are:  0 3 6 7 9 11 12 14 15 18 21 22 24 27 28 30 33 35 36 39 "
     ]
    }
   ],
   "source": [
    "print(\"The multiples of 3, 7 or 11 between 0 and 40 are: \", end = \" \")\n",
    "for i in range(41):\n",
    "    if (i % 3 == 0) or (i % 7 == 0) or (i % 11 == 0):\n",
    "        print(i, end = \" \")"
   ]
  },
  {
   "cell_type": "markdown",
   "id": "a5ce6832-47c8-4170-9b95-3bde800175a6",
   "metadata": {},
   "source": [
    "## Question 12"
   ]
  },
  {
   "cell_type": "code",
   "execution_count": 64,
   "id": "db6bd283-11b0-4ba6-a99f-de379b02a5bc",
   "metadata": {},
   "outputs": [
    {
     "name": "stdin",
     "output_type": "stream",
     "text": [
      "Enter a float:  -2.4\n"
     ]
    },
    {
     "name": "stdout",
     "output_type": "stream",
     "text": [
      "The floor of -2.4 is -3.\n"
     ]
    }
   ],
   "source": [
    "import math\n",
    "x = float(input(\"Enter a float: \"))\n",
    "print(\"The floor of {} is {}.\".format(x, math.floor(x)))"
   ]
  },
  {
   "cell_type": "markdown",
   "id": "4206b55c-b879-492c-b6be-0b45cf72fcbc",
   "metadata": {},
   "source": [
    "## Question 13"
   ]
  },
  {
   "cell_type": "code",
   "execution_count": 12,
   "id": "fc9f3a93-cb6a-43f6-8651-052ebe036168",
   "metadata": {},
   "outputs": [
    {
     "name": "stdin",
     "output_type": "stream",
     "text": [
      "Enter the x-coordinate:  1\n",
      "Enter the y-coordinate:  1\n"
     ]
    },
    {
     "name": "stdout",
     "output_type": "stream",
     "text": [
      "(1.0, 1.0) is in the 1st quadrant.\n"
     ]
    }
   ],
   "source": [
    "x = float(input(\"Enter the x-coordinate: \"))\n",
    "y = float(input(\"Enter the y-coordinate: \"))\n",
    "if x > 0 and y > 0:\n",
    "    print(\"({}, {}) is in the 1st quadrant.\".format(x, y))\n",
    "elif x < 0 and y > 0:\n",
    "    print(\"({}, {}) is in the 2nd quadrant.\".format(x, y))\n",
    "elif x < 0 and y < 0:\n",
    "    print(\"({}, {}) is in the 3rd quadrant.\".format(x, y))\n",
    "elif x > 0 and y < 0:\n",
    "    print(\"({}, {}) is in the 4th quadrant.\".format(x, y))\n",
    "elif x == 0 and y > 0 or y > 0:\n",
    "    print(\"({}, {}) is on the y-axis.\".format(x, y))\n",
    "elif y == 0 and x > 0 or x > 0:\n",
    "    print(\"({}, {}) is on the x-axis.\".format(x, y))\n",
    "else:\n",
    "    print(\"({}, {}) is the origin.\".format(x, y))"
   ]
  },
  {
   "cell_type": "markdown",
   "id": "d7efe24e-fb95-4bc8-b5bd-e6cea31e32cd",
   "metadata": {},
   "source": [
    "## Question 14"
   ]
  },
  {
   "cell_type": "code",
   "execution_count": 66,
   "id": "a01c5eb0-219c-4d1c-83dc-70eb3e4d84cf",
   "metadata": {},
   "outputs": [
    {
     "name": "stdin",
     "output_type": "stream",
     "text": [
      "Enter an integer between 0 and 9:  6\n",
      "Enter an integer between 0 and 255:  90\n"
     ]
    },
    {
     "name": "stdout",
     "output_type": "stream",
     "text": [
      "The multiples of 6 between 0 and 90 are: \n",
      "0 6 12 18 24 30 36 42 48 54 60 66 72 78 84 90 "
     ]
    },
    {
     "name": "stdin",
     "output_type": "stream",
     "text": [
      "Do you want to continue? (y/n) y\n",
      "Enter an integer between 0 and 9:  6\n",
      "Enter an integer between 0 and 255:  -4\n"
     ]
    },
    {
     "name": "stdout",
     "output_type": "stream",
     "text": [
      "The number should be an integer between 0 and 255. Try Again!\n"
     ]
    },
    {
     "name": "stdin",
     "output_type": "stream",
     "text": [
      "Enter an integer between 0 and 255:  67\n"
     ]
    },
    {
     "name": "stdout",
     "output_type": "stream",
     "text": [
      "The multiples of 6 between 0 and 67 are: \n",
      "0 6 12 18 24 30 36 42 48 54 60 66 "
     ]
    },
    {
     "name": "stdin",
     "output_type": "stream",
     "text": [
      "Do you want to continue? (y/n) n\n"
     ]
    }
   ],
   "source": [
    "while True:\n",
    "    x = int(input(\"Enter an integer between 0 and 9: \"))\n",
    "    if x in range(10):\n",
    "        while True:\n",
    "            max = int(input(\"Enter an integer between 0 and 255: \"))\n",
    "            if max in range(256):\n",
    "                print(\"The multiples of {} between 0 and {} are: \".format(x, max))\n",
    "                if x == 0:\n",
    "                    print(\"{}, {}\".format(0, max))\n",
    "                else:\n",
    "                    for i in range(0, max + 1, x):\n",
    "                        print(i, end=\" \")\n",
    "                break\n",
    "            else:\n",
    "                print(\"The number should be an integer between 0 and 255. Try Again!\")\n",
    "    else:\n",
    "        print(\"The number should be an integer between 0 and 9. Try Again!\")\n",
    "    cont = input(\"Do you want to continue? (y/n)\")\n",
    "    if cont != \"y\":\n",
    "        break"
   ]
  }
 ],
 "metadata": {
  "kernelspec": {
   "display_name": "Python 3 (ipykernel)",
   "language": "python",
   "name": "python3"
  },
  "language_info": {
   "codemirror_mode": {
    "name": "ipython",
    "version": 3
   },
   "file_extension": ".py",
   "mimetype": "text/x-python",
   "name": "python",
   "nbconvert_exporter": "python",
   "pygments_lexer": "ipython3",
   "version": "3.10.9"
  }
 },
 "nbformat": 4,
 "nbformat_minor": 5
}
