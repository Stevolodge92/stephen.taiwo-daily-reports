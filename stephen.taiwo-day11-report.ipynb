{
 "cells": [
  {
   "cell_type": "code",
   "execution_count": 3,
   "id": "44286768-bad0-4a79-894a-cbc744f167f4",
   "metadata": {},
   "outputs": [],
   "source": [
    "import numpy as np"
   ]
  },
  {
   "cell_type": "markdown",
   "id": "95741587-7207-4206-9b5b-4c22fb5c30c6",
   "metadata": {},
   "source": [
    "---\n",
    "\n",
    "### Exercise 1:\n",
    "Create a NumPy array of integers from 1 to 10.\n",
    "\n",
    "```python\n",
    "# Exercise 1\n",
    "```"
   ]
  },
  {
   "cell_type": "code",
   "execution_count": 7,
   "id": "be35ab55-3baf-4c53-92bd-fe351e784295",
   "metadata": {},
   "outputs": [
    {
     "name": "stdout",
     "output_type": "stream",
     "text": [
      "[ 1  2  3  4  5  6  7  8  9 10]\n"
     ]
    }
   ],
   "source": [
    "a = np.arange(1, 11)\n",
    "print(a)"
   ]
  },
  {
   "cell_type": "markdown",
   "id": "458b829e-7deb-43af-bcbf-16f730a875af",
   "metadata": {
    "jp-MarkdownHeadingCollapsed": true
   },
   "source": [
    "---\n",
    "\n",
    "### Exercise 2:\n",
    "Create a 3x3 NumPy array filled with zeros.\n",
    "\n",
    "```python\n",
    "# Exercise 2\n",
    "```"
   ]
  },
  {
   "cell_type": "code",
   "execution_count": 9,
   "id": "39dc9851-0bc8-4ae4-8f66-dd37a475608f",
   "metadata": {},
   "outputs": [
    {
     "name": "stdout",
     "output_type": "stream",
     "text": [
      "[[0. 0. 0.]\n",
      " [0. 0. 0.]\n",
      " [0. 0. 0.]]\n"
     ]
    }
   ],
   "source": [
    "b = np.zeros((3,3))\n",
    "print(b)"
   ]
  },
  {
   "cell_type": "markdown",
   "id": "ee8db93d-3952-480b-bb32-8f9db8814a84",
   "metadata": {},
   "source": [
    "---\n",
    "\n",
    "### Exercise 3:\n",
    "Create a NumPy array of 10 evenly spaced numbers between 0 and 5.\n",
    "\n",
    "```python\n",
    "# Exercise 3\n",
    "```"
   ]
  },
  {
   "cell_type": "code",
   "execution_count": 15,
   "id": "410c5e7c-8fb0-476b-9c93-2ebe238dc5c1",
   "metadata": {
    "scrolled": true
   },
   "outputs": [
    {
     "data": {
      "text/plain": [
       "array([0.        , 0.55555556, 1.11111111, 1.66666667, 2.22222222,\n",
       "       2.77777778, 3.33333333, 3.88888889, 4.44444444, 5.        ])"
      ]
     },
     "execution_count": 15,
     "metadata": {},
     "output_type": "execute_result"
    }
   ],
   "source": [
    "np.linspace(0, 5, 10)"
   ]
  },
  {
   "cell_type": "markdown",
   "id": "9eab855d-edc6-4027-a4bc-99419b82357c",
   "metadata": {},
   "source": [
    "---\n",
    "\n",
    "### Exercise 4:\n",
    "Create a 5x5 identity matrix using NumPy.\n",
    "\n",
    "```python\n",
    "# Exercise 4\n",
    "```"
   ]
  },
  {
   "cell_type": "code",
   "execution_count": 19,
   "id": "04847096-be20-453d-bd5e-aff428ef5dcd",
   "metadata": {},
   "outputs": [
    {
     "data": {
      "text/plain": [
       "array([[1., 0., 0., 0., 0.],\n",
       "       [0., 1., 0., 0., 0.],\n",
       "       [0., 0., 1., 0., 0.],\n",
       "       [0., 0., 0., 1., 0.],\n",
       "       [0., 0., 0., 0., 1.]])"
      ]
     },
     "execution_count": 19,
     "metadata": {},
     "output_type": "execute_result"
    }
   ],
   "source": [
    "np.eye(5)"
   ]
  },
  {
   "cell_type": "markdown",
   "id": "6bc21e8c-a46d-415c-9e45-8c8b5a9d03ab",
   "metadata": {},
   "source": [
    "---\n",
    "\n",
    "### Exercise 5:\n",
    "Create a 4x4 matrix with random values between 0 and 1.\n",
    "\n",
    "```python\n",
    "# Exercise 5\n",
    "```"
   ]
  },
  {
   "cell_type": "code",
   "execution_count": 51,
   "id": "d77c67ae-dd17-42d9-85cc-774ab9626478",
   "metadata": {},
   "outputs": [
    {
     "data": {
      "text/plain": [
       "array([[0.77132064, 0.02075195, 0.63364823, 0.74880388],\n",
       "       [0.49850701, 0.22479665, 0.19806286, 0.76053071],\n",
       "       [0.16911084, 0.08833981, 0.68535982, 0.95339335],\n",
       "       [0.00394827, 0.51219226, 0.81262096, 0.61252607]])"
      ]
     },
     "execution_count": 51,
     "metadata": {},
     "output_type": "execute_result"
    }
   ],
   "source": [
    "np.random.seed(10)\n",
    "np.random.random((4, 4))"
   ]
  },
  {
   "cell_type": "markdown",
   "id": "c7b02457-af22-445a-b8c9-77d96056ac32",
   "metadata": {},
   "source": [
    "---\n",
    "\n",
    "### Exercise 6:\n",
    "Find the shape of a NumPy array.\n",
    "\n",
    "```python\n",
    "# Exercise 6\n",
    "```"
   ]
  },
  {
   "cell_type": "code",
   "execution_count": 33,
   "id": "658450d8-cc68-4532-b818-657795b44dc5",
   "metadata": {},
   "outputs": [
    {
     "name": "stdout",
     "output_type": "stream",
     "text": [
      "(10,)\n"
     ]
    }
   ],
   "source": [
    "c = np.linspace(0, 5, 10)\n",
    "print(c.shape)"
   ]
  },
  {
   "cell_type": "markdown",
   "id": "21a72e82-bddf-408a-a11d-bfefffe56f32",
   "metadata": {},
   "source": [
    "---\n",
    "\n",
    "### Exercise 7:\n",
    "Reshape a 1D NumPy array of 16 elements into a 4x4 matrix.\n",
    "\n",
    "```python\n",
    "# Exercise 7\n",
    "```"
   ]
  },
  {
   "cell_type": "code",
   "execution_count": 35,
   "id": "a08d7606-23a7-4a9e-8e3c-000e699c64c8",
   "metadata": {},
   "outputs": [
    {
     "data": {
      "text/plain": [
       "array([[ 0,  1,  2,  3],\n",
       "       [ 4,  5,  6,  7],\n",
       "       [ 8,  9, 10, 11],\n",
       "       [12, 13, 14, 15]])"
      ]
     },
     "execution_count": 35,
     "metadata": {},
     "output_type": "execute_result"
    }
   ],
   "source": [
    "a = np.arange(16)\n",
    "a.reshape((4, 4))"
   ]
  },
  {
   "cell_type": "markdown",
   "id": "826c6d65-9bad-4a8d-92e3-c8b5d45ba536",
   "metadata": {},
   "source": [
    "---\n",
    "\n",
    "### Exercise 8:\n",
    "Find the data type of the elements in a NumPy array.\n",
    "\n",
    "```python\n",
    "# Exercise 8\n",
    "```"
   ]
  },
  {
   "cell_type": "code",
   "execution_count": 37,
   "id": "e2fd8d5e-8fec-456d-a013-62fc3dfb3032",
   "metadata": {},
   "outputs": [
    {
     "name": "stdout",
     "output_type": "stream",
     "text": [
      "int32\n"
     ]
    }
   ],
   "source": [
    "a = np.arange(16)\n",
    "print(a.dtype)"
   ]
  },
  {
   "cell_type": "markdown",
   "id": "b204ac3a-98da-49e9-8bb1-ed976ca8bceb",
   "metadata": {},
   "source": [
    "---\n",
    "\n",
    "### Exercise 9:\n",
    "Create a NumPy array of integers from 1 to 100 and find all even numbers in the array.\n",
    "\n",
    "```python\n",
    "# Exercise 9\n",
    "```"
   ]
  },
  {
   "cell_type": "code",
   "execution_count": 65,
   "id": "50eae6af-c470-4405-b0d1-59bd35d9efd1",
   "metadata": {},
   "outputs": [
    {
     "data": {
      "text/plain": [
       "array([  2,   4,   6,   8,  10,  12,  14,  16,  18,  20,  22,  24,  26,\n",
       "        28,  30,  32,  34,  36,  38,  40,  42,  44,  46,  48,  50,  52,\n",
       "        54,  56,  58,  60,  62,  64,  66,  68,  70,  72,  74,  76,  78,\n",
       "        80,  82,  84,  86,  88,  90,  92,  94,  96,  98, 100])"
      ]
     },
     "execution_count": 65,
     "metadata": {},
     "output_type": "execute_result"
    }
   ],
   "source": [
    "# a = np.arange(1, 101)\n",
    "# for i in a:\n",
    "#     if i % 2 == 0:\n",
    "#         print(i, end = \" \")\n",
    "\n",
    "np.arange(2, 101, 2)"
   ]
  },
  {
   "cell_type": "markdown",
   "id": "aad9c3eb-8443-4c2a-a986-4fce29a1657f",
   "metadata": {},
   "source": [
    "---\n",
    "\n",
    "### Exercise 10:\n",
    "Generate a 6x6 matrix of random integers between 10 and 50.\n",
    "\n",
    "```python\n",
    "# Exercise 10\n",
    "```"
   ]
  },
  {
   "cell_type": "code",
   "execution_count": 84,
   "id": "fe5f2d37-09e7-4f49-b005-4ddf8eaddd6b",
   "metadata": {},
   "outputs": [
    {
     "data": {
      "text/plain": [
       "array([[10, 13, 13, 49, 19, 29],\n",
       "       [31, 46, 33, 16, 34, 34],\n",
       "       [22, 11, 48, 49, 33, 34],\n",
       "       [27, 47, 35, 23, 18, 19],\n",
       "       [30, 26, 15, 25, 10, 28],\n",
       "       [45, 34, 39, 29, 29, 24]])"
      ]
     },
     "execution_count": 84,
     "metadata": {},
     "output_type": "execute_result"
    }
   ],
   "source": [
    "np.random.seed(0)\n",
    "np.random.randint(10, 50, (6,6))"
   ]
  },
  {
   "cell_type": "markdown",
   "id": "0a6f9713-1ed8-4f50-96b1-d37225799a1c",
   "metadata": {},
   "source": [
    "---\n",
    "\n",
    "### Exercise 11:\n",
    "Slice a 2D NumPy array to extract a submatrix.\n",
    "\n",
    "```python\n",
    "# Exercise 11\n",
    "```"
   ]
  },
  {
   "cell_type": "code",
   "execution_count": 86,
   "id": "147bdb9c-6145-47b4-8e6f-7c8f2fd05deb",
   "metadata": {},
   "outputs": [
    {
     "data": {
      "text/plain": [
       "array([[33, 16, 34, 34],\n",
       "       [48, 49, 33, 34],\n",
       "       [35, 23, 18, 19]])"
      ]
     },
     "execution_count": 86,
     "metadata": {},
     "output_type": "execute_result"
    }
   ],
   "source": [
    "np.random.seed(0)\n",
    "y = np.random.randint(10, 50, (6,6))\n",
    "b = y[1:4, 2:]\n",
    "b"
   ]
  },
  {
   "cell_type": "markdown",
   "id": "c692c7ee-7f54-4a7f-90cc-ec11ffb32f4c",
   "metadata": {},
   "source": [
    "---\n",
    "\n",
    "### Exercise 12:\n",
    "Calculate the sum of all elements in a NumPy array.\n",
    "\n",
    "```python\n",
    "# Exercise 12\n",
    "```"
   ]
  },
  {
   "cell_type": "code",
   "execution_count": 53,
   "id": "c2f703b7-1e1c-4d66-8a46-7605da360f19",
   "metadata": {},
   "outputs": [
    {
     "data": {
      "text/plain": [
       "64"
      ]
     },
     "execution_count": 53,
     "metadata": {},
     "output_type": "execute_result"
    }
   ],
   "source": [
    "np.random.seed(0)\n",
    "x = np.random.randint(10, size=(3, 4))\n",
    "np.sum(x)"
   ]
  },
  {
   "cell_type": "markdown",
   "id": "49cb2e9c-153d-4b90-ae18-26174737ccbf",
   "metadata": {},
   "source": [
    "---\n",
    "\n",
    "### Exercise 13:\n",
    "Calculate the mean, median, and standard deviation of a NumPy array.\n",
    "\n",
    "```python\n",
    "# Exercise 13\n",
    "```"
   ]
  },
  {
   "cell_type": "code",
   "execution_count": 63,
   "id": "70d59e31-65b7-438e-87b2-0670462fcf37",
   "metadata": {},
   "outputs": [
    {
     "name": "stdout",
     "output_type": "stream",
     "text": [
      "4.5 4.5 2.3979157616563596\n"
     ]
    }
   ],
   "source": [
    "print(np.mean(x), np.median(x), np.std(x))"
   ]
  },
  {
   "cell_type": "markdown",
   "id": "fc3ffb21-5eff-45ef-95de-cbff5f0aea20",
   "metadata": {},
   "source": [
    "---\n",
    "\n",
    "### Exercise 14:\n",
    "Find the maximum and minimum values in a NumPy array.\n",
    "\n",
    "```python\n",
    "# Exercise 14\n",
    "```"
   ]
  },
  {
   "cell_type": "code",
   "execution_count": 69,
   "id": "b70251b5-e9ab-4aec-9a06-daf94d23bdde",
   "metadata": {},
   "outputs": [
    {
     "name": "stdout",
     "output_type": "stream",
     "text": [
      "9 0\n"
     ]
    }
   ],
   "source": [
    "print(np.max(x), np.min(x))"
   ]
  },
  {
   "cell_type": "markdown",
   "id": "d7f72e4c-724c-4b8e-aa37-484e2ead985b",
   "metadata": {},
   "source": [
    "---\n",
    "\n",
    "### Exercise 15:\n",
    "Create a NumPy array of 20 random integers and find the index of the maximum value.\n",
    "\n",
    "```python\n",
    "# Exercise 15\n",
    "```"
   ]
  },
  {
   "cell_type": "code",
   "execution_count": 166,
   "id": "7bcbef86-9bb7-4df2-9994-836edf9940e5",
   "metadata": {},
   "outputs": [
    {
     "name": "stdout",
     "output_type": "stream",
     "text": [
      "[44 47  0  3  3 39  9 19 21 36 23  6 24 24 12  1 38 39 23 46]\n"
     ]
    },
    {
     "data": {
      "text/plain": [
       "1"
      ]
     },
     "execution_count": 166,
     "metadata": {},
     "output_type": "execute_result"
    }
   ],
   "source": [
    "np.random.seed(0)\n",
    "a = np.random.randint(0, high = 50, size = 20)\n",
    "print(a)\n",
    "# print(np.where(a == np.max(a)))\n",
    "np.argmax(a)"
   ]
  },
  {
   "cell_type": "markdown",
   "id": "c9e2e625-da94-486c-9fd0-152a4086215b",
   "metadata": {},
   "source": [
    "---\n",
    "\n",
    "### Exercise 16:\n",
    "Create a NumPy array and reverse its elements.\n",
    "\n",
    "```python\n",
    "# Exercise 16\n",
    "```"
   ]
  },
  {
   "cell_type": "code",
   "execution_count": 174,
   "id": "4c0d1487-2acf-4081-8d47-5a41fa93126e",
   "metadata": {},
   "outputs": [
    {
     "data": {
      "text/plain": [
       "array([[46, 23, 39, 38,  1],\n",
       "       [12, 24, 24,  6, 23],\n",
       "       [36, 21, 19,  9, 39],\n",
       "       [ 3,  3,  0, 47, 44]])"
      ]
     },
     "execution_count": 174,
     "metadata": {},
     "output_type": "execute_result"
    }
   ],
   "source": [
    "np.random.seed(0)\n",
    "a = np.random.randint(0, high = 50, size = 20).reshape(4,5)\n",
    "np.flip(a)"
   ]
  },
  {
   "cell_type": "markdown",
   "id": "55bdc423-a4b2-4ba3-9fc9-8f514fb80c7f",
   "metadata": {},
   "source": [
    "---\n",
    "\n",
    "### Exercise 17:\n",
    "Create a 3x3 matrix and multiply it element-wise by another 3x3 matrix.\n",
    "\n",
    "```python\n",
    "# Exercise 17\n",
    "```"
   ]
  },
  {
   "cell_type": "code",
   "execution_count": 126,
   "id": "8b0ab0ea-08e5-4cad-b2d6-76a597e3bd6e",
   "metadata": {},
   "outputs": [
    {
     "data": {
      "text/plain": [
       "array([[30, 36, 48],\n",
       "       [56, 56, 12],\n",
       "       [14, 10, 10]])"
      ]
     },
     "execution_count": 126,
     "metadata": {},
     "output_type": "execute_result"
    }
   ],
   "source": [
    "a = np.random.randint(1, 9, (3,3))\n",
    "b = np.random.randint(5, 15, (3,3))\n",
    "a * b"
   ]
  },
  {
   "cell_type": "markdown",
   "id": "083cb583-06db-48ae-8352-9fd68be4d5f2",
   "metadata": {},
   "source": [
    "---\n",
    "\n",
    "### Exercise 18:\n",
    "Create a diagonal matrix from a given 1D array.\n",
    "\n",
    "```python\n",
    "# Exercise 18\n",
    "```"
   ]
  },
  {
   "cell_type": "code",
   "execution_count": 128,
   "id": "1a51a448-6d99-40e6-a71c-362738d6e72a",
   "metadata": {},
   "outputs": [
    {
     "data": {
      "text/plain": [
       "array([[ 0.,  0.,  0.,  0.],\n",
       "       [ 0.,  5.,  0.,  0.],\n",
       "       [ 0.,  0., 10.,  0.],\n",
       "       [ 0.,  0.,  0., 15.]])"
      ]
     },
     "execution_count": 128,
     "metadata": {},
     "output_type": "execute_result"
    }
   ],
   "source": [
    "a = np.arange(16)\n",
    "a.reshape(4, 4) * np.eye(4, 4)"
   ]
  },
  {
   "cell_type": "markdown",
   "id": "7119a791-366e-4db3-9a86-17fd8edbb408",
   "metadata": {},
   "source": [
    "---\n",
    "\n",
    "### Exercise 19:\n",
    "Perform matrix multiplication on two 2D NumPy arrays.\n",
    "\n",
    "```python\n",
    "# Exercise 19\n",
    "```"
   ]
  },
  {
   "cell_type": "code",
   "execution_count": 130,
   "id": "d048fbb7-9abf-4dab-bcbc-8c2165d52ed7",
   "metadata": {},
   "outputs": [
    {
     "data": {
      "text/plain": [
       "array([[190, 185, 180],\n",
       "       [174, 143, 111],\n",
       "       [146, 162, 179]])"
      ]
     },
     "execution_count": 130,
     "metadata": {},
     "output_type": "execute_result"
    }
   ],
   "source": [
    "a = np.random.randint(1, 9, (3,3))\n",
    "b = np.random.randint(5, 15, (3,3))\n",
    "np.dot(a, b)"
   ]
  },
  {
   "cell_type": "markdown",
   "id": "87122a51-f6f0-47d4-9b52-0aa1cc8cf906",
   "metadata": {},
   "source": [
    "---\n",
    "\n",
    "### Exercise 20:\n",
    "Flatten a 2D NumPy array into a 1D array.\n",
    "\n",
    "```python\n",
    "# Exercise 20"
   ]
  },
  {
   "cell_type": "code",
   "execution_count": 154,
   "id": "b41e9fea-38f4-4b88-a2ab-ac87537a6fa7",
   "metadata": {},
   "outputs": [
    {
     "name": "stdout",
     "output_type": "stream",
     "text": [
      "[[3 4 7]\n",
      " [2 3 2]\n",
      " [5 3 7]]\n",
      "[3 4 7 2 3 2 5 3 7]\n"
     ]
    }
   ],
   "source": [
    "a = np.random.randint(1, 9, (3,3))\n",
    "print(a)\n",
    "print(a.flatten())"
   ]
  },
  {
   "cell_type": "markdown",
   "id": "202d25bf-3c80-44bf-abcb-1e3789488119",
   "metadata": {},
   "source": [
    "---\n",
    "\n",
    "### Exercise 21:\n",
    "Stack two NumPy arrays vertically.\n",
    "\n",
    "```python\n",
    "# Exercise 21\n",
    "```"
   ]
  },
  {
   "cell_type": "code",
   "execution_count": 184,
   "id": "73e811d8-5380-4656-89c8-6c78438ad69e",
   "metadata": {},
   "outputs": [
    {
     "data": {
      "text/plain": [
       "array([[ 5,  6,  6],\n",
       "       [ 7,  1,  5],\n",
       "       [ 2,  8,  5],\n",
       "       [14, 13,  6],\n",
       "       [ 6, 12, 14],\n",
       "       [14,  8, 11]])"
      ]
     },
     "execution_count": 184,
     "metadata": {},
     "output_type": "execute_result"
    }
   ],
   "source": [
    "np.random.seed(0)\n",
    "a = np.random.randint(1, 9, (3,3))\n",
    "b = np.random.randint(5, 15, (3,3))\n",
    "np.row_stack((a, b))"
   ]
  },
  {
   "cell_type": "markdown",
   "id": "d84dc54c-790d-40cf-8819-0203df2bb57a",
   "metadata": {},
   "source": [
    "---\n",
    "\n",
    "### Exercise 22:\n",
    "Stack two NumPy arrays horizontally.\n",
    "\n",
    "```python\n",
    "# Exercise 22\n",
    "```"
   ]
  },
  {
   "cell_type": "code",
   "execution_count": 186,
   "id": "0055dccd-2770-4ad1-84a2-a5415e97e409",
   "metadata": {},
   "outputs": [
    {
     "data": {
      "text/plain": [
       "array([[ 5,  6,  6, 14, 13,  6],\n",
       "       [ 7,  1,  5,  6, 12, 14],\n",
       "       [ 2,  8,  5, 14,  8, 11]])"
      ]
     },
     "execution_count": 186,
     "metadata": {},
     "output_type": "execute_result"
    }
   ],
   "source": [
    "np.column_stack((a, b))"
   ]
  },
  {
   "cell_type": "markdown",
   "id": "456db44f-41e4-4cfc-9f00-73141d2a1350",
   "metadata": {},
   "source": [
    "---\n",
    "\n",
    "### Exercise 23:\n",
    "Split a NumPy array into multiple sub-arrays.\n",
    "\n",
    "```python\n",
    "# Exercise 23\n",
    "```"
   ]
  },
  {
   "cell_type": "code",
   "execution_count": 216,
   "id": "def580ed-c5a6-4142-b772-78248d7bb939",
   "metadata": {},
   "outputs": [
    {
     "data": {
      "text/plain": [
       "[array([[44, 47,  0,  3,  3],\n",
       "        [39,  9, 19, 21, 36]]),\n",
       " array([[23,  6, 24, 24, 12]]),\n",
       " array([[ 1, 38, 39, 23, 46]])]"
      ]
     },
     "execution_count": 216,
     "metadata": {},
     "output_type": "execute_result"
    }
   ],
   "source": [
    "np.random.seed(0)\n",
    "a = np.random.randint(0, high = 50, size = 20).reshape(4, 5)\n",
    "np.split(a, [2, 3])"
   ]
  },
  {
   "cell_type": "markdown",
   "id": "a9b31123-6dd1-44ee-b693-ee8c65a89614",
   "metadata": {},
   "source": [
    "---\n",
    "\n",
    "### Exercise 24:\n",
    "Generate a random NumPy array and round each element to two decimal places.\n",
    "\n",
    "```python\n",
    "# Exercise 24\n",
    "```"
   ]
  },
  {
   "cell_type": "code",
   "execution_count": 208,
   "id": "4de25096-20e3-4cee-8bad-2ec24c27e783",
   "metadata": {},
   "outputs": [
    {
     "data": {
      "text/plain": [
       "array([[0.12, 0.64, 0.14, 0.94],\n",
       "       [0.52, 0.41, 0.26, 0.77],\n",
       "       [0.46, 0.57, 0.02, 0.62]])"
      ]
     },
     "execution_count": 208,
     "metadata": {},
     "output_type": "execute_result"
    }
   ],
   "source": [
    "A = np.random.random((3, 4))\n",
    "np.round(A, 2)"
   ]
  },
  {
   "cell_type": "markdown",
   "id": "320db37e-53cd-4969-ac4c-6e752665aac9",
   "metadata": {},
   "source": [
    "---\n",
    "\n",
    "### Exercise 25:\n",
    "Find the unique elements of a NumPy array.\n",
    "\n",
    "```python\n",
    "# Exercise 25\n",
    "```"
   ]
  },
  {
   "cell_type": "code",
   "execution_count": 218,
   "id": "3e8335e7-2c73-4757-876f-da7ae9350f71",
   "metadata": {},
   "outputs": [
    {
     "data": {
      "text/plain": [
       "array([ 0,  1,  3,  6,  9, 12, 19, 21, 23, 24, 36, 38, 39, 44, 46, 47])"
      ]
     },
     "execution_count": 218,
     "metadata": {},
     "output_type": "execute_result"
    }
   ],
   "source": [
    "np.random.seed(0)\n",
    "a = np.random.randint(0, high = 50, size = 20)\n",
    "np.unique(a)"
   ]
  },
  {
   "cell_type": "markdown",
   "id": "b4278ac8-2d87-4cdb-9750-e8ce83486346",
   "metadata": {},
   "source": [
    "---\n",
    "\n",
    "### Exercise 26:\n",
    "Replace all elements in a NumPy array that are less than a specific value with that value.\n",
    "\n",
    "```python\n",
    "# Exercise 26\n",
    "```"
   ]
  },
  {
   "cell_type": "code",
   "execution_count": 224,
   "id": "13f6beb7-2665-4952-9214-e7a7cd98494b",
   "metadata": {},
   "outputs": [
    {
     "name": "stdout",
     "output_type": "stream",
     "text": [
      "[[44 47  0  3  3]\n",
      " [39  9 19 21 36]\n",
      " [23  6 24 24 12]\n",
      " [ 1 38 39 23 46]]\n",
      "==================================================\n",
      "[[44 47 10 10 10]\n",
      " [39 10 19 21 36]\n",
      " [23 10 24 24 12]\n",
      " [10 38 39 23 46]]\n"
     ]
    }
   ],
   "source": [
    "np.random.seed(0)\n",
    "a = np.random.randint(0, high = 50, size = 20).reshape(4, 5)\n",
    "print(a)\n",
    "print(\"==================================================\")\n",
    "a[a < 10] = 10\n",
    "print(a)"
   ]
  },
  {
   "cell_type": "markdown",
   "id": "c4424209-4f1b-4543-92f2-d784e48df693",
   "metadata": {},
   "source": [
    "---\n",
    "\n",
    "### Exercise 27:\n",
    "Find the cumulative sum of the elements in a NumPy array.\n",
    "\n",
    "```python\n",
    "# Exercise 27\n",
    "```"
   ]
  },
  {
   "cell_type": "code",
   "execution_count": 226,
   "id": "e57b0c95-4019-4454-be86-270dcb42eb85",
   "metadata": {},
   "outputs": [
    {
     "data": {
      "text/plain": [
       "array([ 44,  91,  91,  94,  97, 136, 145, 164, 185, 221, 244, 250, 274,\n",
       "       298, 310, 311, 349, 388, 411, 457])"
      ]
     },
     "execution_count": 226,
     "metadata": {},
     "output_type": "execute_result"
    }
   ],
   "source": [
    "np.random.seed(0)\n",
    "a = np.random.randint(0, high = 50, size = 20).reshape(4, 5)\n",
    "np.cumsum(a)"
   ]
  },
  {
   "cell_type": "markdown",
   "id": "d9c398a3-fc97-4203-9c7e-2bd39177a69f",
   "metadata": {},
   "source": [
    "---\n",
    "\n",
    "### Exercise 28:\n",
    "Create a NumPy array and find the number of non-zero elements in it.\n",
    "\n",
    "```python\n",
    "# Exercise 28\n",
    "```"
   ]
  },
  {
   "cell_type": "code",
   "execution_count": 176,
   "id": "2a8d67cc-f7e4-4a19-946c-d6e76a80d8f4",
   "metadata": {},
   "outputs": [
    {
     "data": {
      "text/plain": [
       "19"
      ]
     },
     "execution_count": 176,
     "metadata": {},
     "output_type": "execute_result"
    }
   ],
   "source": [
    "np.random.seed(0)\n",
    "a = np.random.randint(0, high = 50, size = 20)\n",
    "np.count_nonzero(a)"
   ]
  },
  {
   "cell_type": "markdown",
   "id": "127ad07f-4f44-4252-8d57-e657eb073a51",
   "metadata": {},
   "source": [
    "---\n",
    "\n",
    "### Exercise 29:\n",
    "Create a NumPy array of random integers and sort it in ascending order.\n",
    "\n",
    "```python\n",
    "# Exercise 29\n",
    "```"
   ]
  },
  {
   "cell_type": "code",
   "execution_count": 178,
   "id": "ea0121ea-6d61-47d1-86c2-6791682d15ae",
   "metadata": {},
   "outputs": [
    {
     "data": {
      "text/plain": [
       "array([ 0,  1,  3,  3,  6,  9, 12, 19, 21, 23, 23, 24, 24, 36, 38, 39, 39,\n",
       "       44, 46, 47])"
      ]
     },
     "execution_count": 178,
     "metadata": {},
     "output_type": "execute_result"
    }
   ],
   "source": [
    "np.random.seed(0)\n",
    "a = np.random.randint(0, high = 50, size = 20)\n",
    "np.sort(a)"
   ]
  },
  {
   "cell_type": "markdown",
   "id": "2b480f85-259b-4e21-ad51-6c579339cc5e",
   "metadata": {},
   "source": [
    "---\n",
    "\n",
    "### Exercise 30:\n",
    "Find the row-wise and column-wise sum of a 3x3 matrix.\n",
    "\n",
    "```python\n",
    "# Exercise 30\n",
    "```"
   ]
  },
  {
   "cell_type": "code",
   "execution_count": 222,
   "id": "52ab7b5e-7985-490e-937d-0da7c3e2e381",
   "metadata": {
    "scrolled": true
   },
   "outputs": [
    {
     "name": "stdout",
     "output_type": "stream",
     "text": [
      "[[44 47  0  3  3]\n",
      " [39  9 19 21 36]\n",
      " [23  6 24 24 12]\n",
      " [ 1 38 39 23 46]]\n",
      "==================================================\n",
      "[107 100  82  71  97]\n",
      "==================================================\n",
      "[ 97 124  89 147]\n"
     ]
    }
   ],
   "source": [
    "np.random.seed(0)\n",
    "a = np.random.randint(0, high = 50, size = 20).reshape(4, 5)\n",
    "print(a)\n",
    "print(\"==================================================\")\n",
    "print(np.sum(a, axis = 0))\n",
    "print(\"==================================================\")\n",
    "print(np.sum(a, axis = 1))"
   ]
  },
  {
   "cell_type": "markdown",
   "id": "c1f34120-d7ca-4458-96bc-083e9f3944d8",
   "metadata": {},
   "source": [
    "---\n",
    "\n",
    "### Exercise 31:\n",
    "Generate a 2D NumPy array with random values and normalize it (scale the values between 0 and 1).\n",
    "\n",
    "```python\n",
    "# Exercise 31\n",
    "```"
   ]
  },
  {
   "cell_type": "code",
   "execution_count": 231,
   "id": "5213d057-cbd3-41f1-a1f1-8e727a8b3fda",
   "metadata": {},
   "outputs": [
    {
     "data": {
      "text/plain": [
       "array([[0.35531275, 0.37953861, 0.        , 0.02422587, 0.02422587],\n",
       "       [0.3149363 , 0.07267761, 0.1534305 , 0.16958108, 0.29071043],\n",
       "       [0.18573166, 0.04845174, 0.19380695, 0.19380695, 0.09690348],\n",
       "       [0.00807529, 0.30686101, 0.3149363 , 0.18573166, 0.37146332]])"
      ]
     },
     "execution_count": 231,
     "metadata": {},
     "output_type": "execute_result"
    }
   ],
   "source": [
    "np.random.seed(0)\n",
    "a = np.random.randint(0, high = 50, size = 20).reshape(4, 5)\n",
    "a_norm = a / np.linalg.norm(a)\n",
    "a_norm"
   ]
  },
  {
   "cell_type": "markdown",
   "id": "7c76acd1-56ad-44e4-9035-ab326ed39be9",
   "metadata": {},
   "source": [
    "---\n",
    "\n",
    "### Exercise 32:\n",
    "Create two NumPy arrays and find the dot product.\n",
    "\n",
    "```python\n",
    "# Exercise 32\n",
    "```"
   ]
  },
  {
   "cell_type": "code",
   "execution_count": 243,
   "id": "320caebe-e1ef-4ece-878d-0b0fc500200f",
   "metadata": {},
   "outputs": [
    {
     "name": "stdout",
     "output_type": "stream",
     "text": [
      "[8 4 7 8 3]\n",
      "[1 4 6 5 5]\n",
      "==================================\n",
      "121\n"
     ]
    }
   ],
   "source": [
    "a = np.random.randint(1, 10, (5,))\n",
    "b = np.random.randint(1, 10, (5,))\n",
    "print(a)\n",
    "print(b)\n",
    "print(\"==================================\")\n",
    "print(np.dot(a, b))"
   ]
  },
  {
   "cell_type": "markdown",
   "id": "1f9d5e64-1750-425f-a430-e7f79095e0cc",
   "metadata": {},
   "source": [
    "---\n",
    "\n",
    "### Exercise 33:\n",
    "Find the trace of a square NumPy matrix.\n",
    "\n",
    "```python\n",
    "# Exercise 33\n",
    "```"
   ]
  },
  {
   "cell_type": "code",
   "execution_count": 247,
   "id": "d975e97e-0c65-43b2-824c-4067d506585c",
   "metadata": {},
   "outputs": [
    {
     "name": "stdout",
     "output_type": "stream",
     "text": [
      "[[44 47  0  3  3]\n",
      " [39  9 19 21 36]\n",
      " [23  6 24 24 12]\n",
      " [ 1 38 39 23 46]]\n",
      "=======================================\n",
      "100\n"
     ]
    }
   ],
   "source": [
    "np.random.seed(0)\n",
    "a = np.random.randint(0, high = 50, size = 20).reshape(4, 5)\n",
    "print(a)\n",
    "print(\"=======================================\")\n",
    "print(np.trace(a))"
   ]
  },
  {
   "cell_type": "markdown",
   "id": "b68191ec-c751-46ef-bf5f-7afe2912e54e",
   "metadata": {},
   "source": [
    "---\n",
    "\n",
    "### Exercise 34:\n",
    "Create a 2D array and swap two rows.\n",
    "\n",
    "```python\n",
    "# Exercise 34\n",
    "```"
   ]
  },
  {
   "cell_type": "code",
   "execution_count": 261,
   "id": "00611a6e-984b-4c7f-bc8f-4fb150a367e5",
   "metadata": {},
   "outputs": [
    {
     "name": "stdout",
     "output_type": "stream",
     "text": [
      "[[44 47  0  3  3]\n",
      " [39  9 19 21 36]\n",
      " [23  6 24 24 12]\n",
      " [ 1 38 39 23 46]]\n",
      "==========================================\n",
      "[[44 47  0  3  3]\n",
      " [23  6 24 24 12]\n",
      " [39  9 19 21 36]\n",
      " [ 1 38 39 23 46]]\n"
     ]
    }
   ],
   "source": [
    "np.random.seed(0)\n",
    "a = np.random.randint(0, high = 50, size = 20).reshape(4, 5)\n",
    "print(a)\n",
    "print(\"==========================================\")\n",
    "a[[2, 1]] = a[[1, 2]]\n",
    "print(a)"
   ]
  },
  {
   "cell_type": "markdown",
   "id": "b780d7d5-2ef0-4364-b601-a24044a1973a",
   "metadata": {},
   "source": [
    "---\n",
    "\n",
    "### Exercise 35:\n",
    "Create a 1D NumPy array and convert it into a column vector.\n",
    "\n",
    "```python\n",
    "# Exercise 35\n",
    "```"
   ]
  },
  {
   "cell_type": "code",
   "execution_count": 291,
   "id": "fa91ff1f-33f5-453b-9dac-e7df1959837a",
   "metadata": {},
   "outputs": [
    {
     "name": "stdout",
     "output_type": "stream",
     "text": [
      "[0 1 2 3]\n",
      "[[0]\n",
      " [1]\n",
      " [2]\n",
      " [3]]\n"
     ]
    }
   ],
   "source": [
    "a = np.arange(4)\n",
    "print(a)\n",
    "print(a[:, np.newaxis])"
   ]
  },
  {
   "cell_type": "markdown",
   "id": "1cc012b6-0de9-42d7-ad77-d89ee9e4748b",
   "metadata": {},
   "source": [
    "---\n",
    "\n",
    "### Exercise 36:\n",
    "Find the determinant of a 3x3 matrix.\n",
    "\n",
    "```python\n",
    "# Exercise 36\n",
    "```"
   ]
  },
  {
   "cell_type": "code",
   "execution_count": 283,
   "id": "b779eee7-5902-4881-8c06-449060dde4c8",
   "metadata": {},
   "outputs": [
    {
     "data": {
      "text/plain": [
       "24.999999999999986"
      ]
     },
     "execution_count": 283,
     "metadata": {},
     "output_type": "execute_result"
    }
   ],
   "source": [
    "a = np.random.randint(0, 9, (3,3))\n",
    "np.linalg.det(a)"
   ]
  },
  {
   "cell_type": "markdown",
   "id": "1c3149c4-0a49-4f99-b53b-79879ebc9173",
   "metadata": {},
   "source": [
    "---\n",
    "\n",
    "### Exercise 37:\n",
    "Find the eigenvalues and eigenvectors of a 2x2 matrix.\n",
    "\n",
    "```python\n",
    "# Exercise 37\n",
    "```"
   ]
  },
  {
   "cell_type": "code",
   "execution_count": 275,
   "id": "05bc6c06-c5a6-4145-9660-b57324ead926",
   "metadata": {},
   "outputs": [
    {
     "name": "stdout",
     "output_type": "stream",
     "text": [
      "Eigenvalues: [12.18535277 -4.18535277] \n",
      "Eigenvectors: [[ 0.82413371 -0.6621561 ]\n",
      " [ 0.5663953   0.74936594]]\n"
     ]
    }
   ],
   "source": [
    "np.random.seed(0)\n",
    "a = np.random.randint(2, 10, size = 4).reshape(2, 2)\n",
    "print(\"Eigenvalues: {} \\nEigenvectors: {}\".format(np.linalg.eig(a)[0], np.linalg.eig(a)[1]))"
   ]
  },
  {
   "cell_type": "markdown",
   "id": "45c4702d-ac03-428a-8197-c7f9dd3cc649",
   "metadata": {},
   "source": [
    "---\n",
    "\n",
    "### Exercise 38:\n",
    "Solve a system of linear equations using NumPy.\n",
    "\n",
    "```python\n",
    "# Exercise 38\n",
    "```"
   ]
  },
  {
   "cell_type": "code",
   "execution_count": 279,
   "id": "fb52f2df-b2f2-4433-80eb-c660f6f46f7b",
   "metadata": {},
   "outputs": [
    {
     "data": {
      "text/plain": [
       "array([[3.],\n",
       "       [2.]])"
      ]
     },
     "execution_count": 279,
     "metadata": {},
     "output_type": "execute_result"
    }
   ],
   "source": [
    "A = np.array([[1, 1], [1, -1]])\n",
    "B = np.array([[5], [1]])\n",
    "np.linalg.solve(A, B)"
   ]
  },
  {
   "cell_type": "markdown",
   "id": "8eccb7b4-71c6-4e68-a16d-0c6b9518e60f",
   "metadata": {},
   "source": [
    "---\n",
    "\n",
    "### Exercise 39:\n",
    "Add Gaussian noise to a NumPy array.\n",
    "\n",
    "```python\n",
    "# Exercise 39\n",
    "```"
   ]
  },
  {
   "cell_type": "markdown",
   "id": "656e6765-c0ad-4929-a03e-b444461d2171",
   "metadata": {},
   "source": [
    "---\n",
    "\n",
    "### Exercise 40:\n",
    "Create a 4x4 matrix and extract the diagonal elements.\n",
    "\n",
    "```python\n",
    "# Exercise 40\n",
    "```\n",
    "\n",
    "---"
   ]
  },
  {
   "cell_type": "code",
   "execution_count": 265,
   "id": "19f2423d-e087-4805-bce8-60bce0a914e5",
   "metadata": {},
   "outputs": [
    {
     "data": {
      "text/plain": [
       "array([44, 39, 23,  1])"
      ]
     },
     "execution_count": 265,
     "metadata": {},
     "output_type": "execute_result"
    }
   ],
   "source": [
    "np.random.seed(0)\n",
    "a = np.random.randint(0, high = 50, size = 16).reshape(4, 4)\n",
    "np.diagonal(a)"
   ]
  },
  {
   "cell_type": "code",
   "execution_count": null,
   "id": "1b80bc10-a182-4a98-a22c-f7768787e3cc",
   "metadata": {},
   "outputs": [],
   "source": []
  }
 ],
 "metadata": {
  "kernelspec": {
   "display_name": "Python 3 (ipykernel)",
   "language": "python",
   "name": "python3"
  },
  "language_info": {
   "codemirror_mode": {
    "name": "ipython",
    "version": 3
   },
   "file_extension": ".py",
   "mimetype": "text/x-python",
   "name": "python",
   "nbconvert_exporter": "python",
   "pygments_lexer": "ipython3",
   "version": "3.10.9"
  }
 },
 "nbformat": 4,
 "nbformat_minor": 5
}
